{
 "cells": [
  {
   "attachments": {},
   "cell_type": "markdown",
   "metadata": {},
   "source": [
    "# Aula 1"
   ]
  },
  {
   "cell_type": "code",
   "execution_count": 17,
   "metadata": {},
   "outputs": [
    {
     "name": "stdout",
     "output_type": "stream",
     "text": [
      "A área do círculo é 314.15000000000003\n"
     ]
    }
   ],
   "source": [
    "# Estrutura de entrada\n",
    "\n",
    "raio = 10\n",
    "\n",
    "area = 3.1415 * (raio ** 2)\n",
    "\n",
    "print(\"A área do círculo é\", area)"
   ]
  },
  {
   "cell_type": "code",
   "execution_count": 1,
   "metadata": {},
   "outputs": [
    {
     "name": "stdout",
     "output_type": "stream",
     "text": [
      "A área do círculo é 3.1415\n"
     ]
    }
   ],
   "source": [
    "# Estrutura de entrada\n",
    "\n",
    "raio = float(input(\"Digite o valor do raio\"))\n",
    "\n",
    "area = 3.1415 * (raio ** 2)\n",
    "\n",
    "print(\"A área do círculo é\", area)"
   ]
  },
  {
   "cell_type": "code",
   "execution_count": 2,
   "metadata": {},
   "outputs": [],
   "source": [
    "Var1 = 'F'\n",
    "Var2 = 'I'\n",
    "Var3 = 'A'\n",
    "Var4 = 'P'\n",
    "Var_total = Var1 + Var2 + Var3 + Var4"
   ]
  },
  {
   "cell_type": "code",
   "execution_count": null,
   "metadata": {},
   "outputs": [
    {
     "name": "stdout",
     "output_type": "stream",
     "text": [
      "O valor de x é 10.0\n",
      "O resultado é 30.0\n"
     ]
    }
   ],
   "source": [
    "x = float(input(\"Digite um valor\"))\n",
    "\n",
    "resultado = 2 * x + 10\n",
    "\n",
    "print(\"O valor de x é\", x)\n",
    "\n",
    "print(\"O resultado é\", resultado)"
   ]
  },
  {
   "cell_type": "code",
   "execution_count": null,
   "metadata": {},
   "outputs": [
    {
     "name": "stdout",
     "output_type": "stream",
     "text": [
      "O valor de x é 101.0\n",
      "O resultado é 2520.0\n"
     ]
    }
   ],
   "source": [
    "x = float(input(\"Digite um valor\"))\n",
    "\n",
    "resultado = 25 * x - 5\n",
    "\n",
    "print(\"O valor de x é\", x)\n",
    "\n",
    "print(\"O resultado é\", resultado)"
   ]
  },
  {
   "cell_type": "code",
   "execution_count": null,
   "metadata": {},
   "outputs": [
    {
     "ename": "ValueError",
     "evalue": "could not convert string to float: ''",
     "output_type": "error",
     "traceback": [
      "\u001b[1;31m---------------------------------------------------------------------------\u001b[0m",
      "\u001b[1;31mValueError\u001b[0m                                Traceback (most recent call last)",
      "Cell \u001b[1;32mIn[42], line 1\u001b[0m\n\u001b[1;32m----> 1\u001b[0m x \u001b[39m=\u001b[39m \u001b[39mfloat\u001b[39;49m(\u001b[39minput\u001b[39;49m(\u001b[39m\"\u001b[39;49m\u001b[39mDigite um valor\u001b[39;49m\u001b[39m\"\u001b[39;49m))\n\u001b[0;32m      3\u001b[0m resultado \u001b[39m=\u001b[39m (\u001b[39m10\u001b[39m \u001b[39m*\u001b[39m x \u001b[39m*\u001b[39m\u001b[39m*\u001b[39m \u001b[39m2\u001b[39m) \u001b[39m+\u001b[39m (\u001b[39m2\u001b[39m \u001b[39m*\u001b[39m x) \u001b[39m+\u001b[39m \u001b[39m10\u001b[39m\n\u001b[0;32m      5\u001b[0m \u001b[39mprint\u001b[39m(\u001b[39m\"\u001b[39m\u001b[39mO valor de x é\u001b[39m\u001b[39m\"\u001b[39m, x)\n",
      "\u001b[1;31mValueError\u001b[0m: could not convert string to float: ''"
     ]
    }
   ],
   "source": [
    "x = float(input(\"Digite um valor\"))\n",
    "\n",
    "resultado = (10 * x ** 2) + (2 * x) + 10\n",
    "\n",
    "print(\"O valor de x é\", x)\n",
    "\n",
    "print(\"O resultado é\", resultado)"
   ]
  },
  {
   "cell_type": "code",
   "execution_count": null,
   "metadata": {},
   "outputs": [
    {
     "name": "stdout",
     "output_type": "stream",
     "text": [
      "A medida em milimetros é 10000.0\n"
     ]
    }
   ],
   "source": [
    "metro = float(input(\"Insira a medida em metros\"))\n",
    "\n",
    "milimetro = metro * 1000\n",
    "\n",
    "print(\"A medida em milimetros é\", milimetro)"
   ]
  },
  {
   "cell_type": "code",
   "execution_count": null,
   "metadata": {},
   "outputs": [
    {
     "name": "stdout",
     "output_type": "stream",
     "text": [
      "O seu tempo total é de 900610.0 Segundos\n"
     ]
    }
   ],
   "source": [
    "dias = float(input(\"Insira os dias\"))\n",
    "\n",
    "horas = float(input(\"Insira as horas\"))\n",
    "\n",
    "minutos = float(input(\"Insira os minutos\"))\n",
    "\n",
    "segundos = float(input(\"Insira os segundos\"))\n",
    "\n",
    "tempo_total = (dias * 24 * 60 * 60) + (horas * 60 * 60) +  (minutos * 60) + segundos\n",
    "\n",
    "print(\"O seu tempo total é de\", tempo_total, \"Segundos\")"
   ]
  },
  {
   "cell_type": "code",
   "execution_count": null,
   "metadata": {},
   "outputs": [
    {
     "name": "stdout",
     "output_type": "stream",
     "text": [
      "o valor final é de -0.09999999999999964 reais\n",
      "o desconto foi de 101.0 %\n"
     ]
    }
   ],
   "source": [
    "preço = float(input(\"Insira o preço\"))\n",
    "\n",
    "desconto = float(input(\"Insira o desconto\"))\n",
    "\n",
    "valor_final = preço - ((desconto / 100) * preço)\n",
    "\n",
    "print(\"o valor final é de\", valor_final, \"reais\")\n",
    "\n",
    "print(\"o desconto foi de\", desconto,\"%\")"
   ]
  },
  {
   "cell_type": "code",
   "execution_count": null,
   "metadata": {},
   "outputs": [
    {
     "name": "stdout",
     "output_type": "stream",
     "text": [
      "O tempo do trajeto foi de 1.0 horas\n"
     ]
    }
   ],
   "source": [
    "distancia = float(input(\"Insira a distancia em km\"))\n",
    "\n",
    "velocidade = float(input(\"Insira a velocidade em km/h\"))\n",
    "\n",
    "tempo = distancia / velocidade\n",
    "\n",
    "print(\"O tempo do trajeto foi de\", tempo, \"horas\")"
   ]
  },
  {
   "cell_type": "code",
   "execution_count": null,
   "metadata": {},
   "outputs": [
    {
     "name": "stdout",
     "output_type": "stream",
     "text": [
      "A potência é de  10.0 watts\n"
     ]
    }
   ],
   "source": [
    "tensao = float(input(\"Insira a tensao\"))\n",
    "\n",
    "corrente = float(input(\"Insira a corrente\"))\n",
    "\n",
    "resistencia = float(input(\"Insira a resistencia\"))\n",
    "\n",
    "if resistencia == 0:\n",
    "    potencia = tensao * corrente \n",
    "    print(\"A potência é de \", potencia, \"watts\")\n",
    "elif tensao == 0:\n",
    "    potencia = resistencia * corrente * corrente\n",
    "    print(\"A potência é de \", potencia, \"watts\")\n",
    "elif corrente == 0:\n",
    "    potencia = (tensao ** 2) / resistencia\n",
    "    print(\"A potência é de \", potencia, \"watts\")\n"
   ]
  },
  {
   "cell_type": "code",
   "execution_count": null,
   "metadata": {},
   "outputs": [
    {
     "name": "stdout",
     "output_type": "stream",
     "text": [
      "O preço final a pagar é 750.0 reais\n"
     ]
    }
   ],
   "source": [
    "km = float(input(\"Insira a quantidade de km percorridos\"))\n",
    "\n",
    "dias = float(input(\"Insira a quantidade de dias que ele foi alugado\"))\n",
    "\n",
    "preço = (km * 0.15) + (dias * 60)\n",
    "\n",
    "print(\"O preço final a pagar é\", preço, \"reais\")"
   ]
  },
  {
   "attachments": {},
   "cell_type": "markdown",
   "metadata": {},
   "source": [
    "# 15/03"
   ]
  },
  {
   "cell_type": "code",
   "execution_count": null,
   "metadata": {},
   "outputs": [
    {
     "name": "stdout",
     "output_type": "stream",
     "text": [
      "Collecting sympy\n",
      "  Downloading sympy-1.12-py3-none-any.whl (5.7 MB)\n",
      "                                              0.0/5.7 MB ? eta -:--:--\n",
      "     ----                                     0.6/5.7 MB 12.4 MB/s eta 0:00:01\n",
      "     ---------                                1.4/5.7 MB 14.4 MB/s eta 0:00:01\n",
      "     ------------                             1.8/5.7 MB 14.3 MB/s eta 0:00:01\n",
      "     ------------                             1.8/5.7 MB 14.3 MB/s eta 0:00:01\n",
      "     ------------                             1.8/5.7 MB 14.3 MB/s eta 0:00:01\n",
      "     ------------                             1.8/5.7 MB 14.3 MB/s eta 0:00:01\n",
      "     ------------                             1.8/5.7 MB 14.3 MB/s eta 0:00:01\n",
      "     -------------                            1.9/5.7 MB 5.3 MB/s eta 0:00:01\n",
      "     -----------------                        2.5/5.7 MB 6.1 MB/s eta 0:00:01\n",
      "     ---------------------                    3.1/5.7 MB 6.8 MB/s eta 0:00:01\n",
      "     -------------------------                3.7/5.7 MB 7.3 MB/s eta 0:00:01\n",
      "     -------------------------                3.7/5.7 MB 7.3 MB/s eta 0:00:01\n",
      "     -------------------------                3.7/5.7 MB 7.3 MB/s eta 0:00:01\n",
      "     -------------------------                3.7/5.7 MB 7.3 MB/s eta 0:00:01\n",
      "     -------------------------                3.7/5.7 MB 7.3 MB/s eta 0:00:01\n",
      "     -------------------------                3.7/5.7 MB 7.3 MB/s eta 0:00:01\n",
      "     -------------------------                3.7/5.7 MB 7.3 MB/s eta 0:00:01\n",
      "     -------------------------                3.7/5.7 MB 7.3 MB/s eta 0:00:01\n",
      "     -------------------------                3.7/5.7 MB 7.3 MB/s eta 0:00:01\n",
      "     -------------------------                3.7/5.7 MB 7.3 MB/s eta 0:00:01\n",
      "     -------------------------                3.7/5.7 MB 7.3 MB/s eta 0:00:01\n",
      "     -------------------------                3.7/5.7 MB 7.3 MB/s eta 0:00:01\n",
      "     -------------------------                3.7/5.7 MB 7.3 MB/s eta 0:00:01\n",
      "     -------------------------                3.7/5.7 MB 7.3 MB/s eta 0:00:01\n",
      "     ---------------------------              3.9/5.7 MB 3.3 MB/s eta 0:00:01\n",
      "     -----------------------------            4.3/5.7 MB 3.5 MB/s eta 0:00:01\n",
      "     --------------------------------         4.7/5.7 MB 3.7 MB/s eta 0:00:01\n",
      "     ------------------------------------     5.2/5.7 MB 4.0 MB/s eta 0:00:01\n",
      "     --------------------------------------   5.5/5.7 MB 4.1 MB/s eta 0:00:01\n",
      "     --------------------------------------   5.5/5.7 MB 4.1 MB/s eta 0:00:01\n",
      "     --------------------------------------   5.5/5.7 MB 4.1 MB/s eta 0:00:01\n",
      "     --------------------------------------   5.5/5.7 MB 4.1 MB/s eta 0:00:01\n",
      "     --------------------------------------   5.5/5.7 MB 4.1 MB/s eta 0:00:01\n",
      "     --------------------------------------   5.5/5.7 MB 4.1 MB/s eta 0:00:01\n",
      "     --------------------------------------   5.5/5.7 MB 4.1 MB/s eta 0:00:01\n",
      "     --------------------------------------   5.5/5.7 MB 4.1 MB/s eta 0:00:01\n",
      "     --------------------------------------   5.5/5.7 MB 4.1 MB/s eta 0:00:01\n",
      "     --------------------------------------   5.5/5.7 MB 4.1 MB/s eta 0:00:01\n",
      "     --------------------------------------   5.5/5.7 MB 4.1 MB/s eta 0:00:01\n",
      "     --------------------------------------   5.5/5.7 MB 4.1 MB/s eta 0:00:01\n",
      "     --------------------------------------   5.5/5.7 MB 4.1 MB/s eta 0:00:01\n",
      "     --------------------------------------   5.5/5.7 MB 4.1 MB/s eta 0:00:01\n",
      "     ---------------------------------------  5.6/5.7 MB 2.8 MB/s eta 0:00:01\n",
      "     ---------------------------------------- 5.7/5.7 MB 2.8 MB/s eta 0:00:00\n",
      "Collecting mpmath>=0.19 (from sympy)\n",
      "  Downloading mpmath-1.3.0-py3-none-any.whl (536 kB)\n",
      "                                              0.0/536.2 kB ? eta -:--:--\n",
      "     --------------                         204.8/536.2 kB 4.1 MB/s eta 0:00:01\n",
      "     -----------------------------------    501.8/536.2 kB 6.3 MB/s eta 0:00:01\n",
      "     -------------------------------------- 536.2/536.2 kB 5.6 MB/s eta 0:00:00\n",
      "Installing collected packages: mpmath, sympy\n",
      "Successfully installed mpmath-1.3.0 sympy-1.12\n",
      "Note: you may need to restart the kernel to use updated packages.\n"
     ]
    },
    {
     "name": "stderr",
     "output_type": "stream",
     "text": [
      "\n",
      "[notice] A new release of pip is available: 23.1.2 -> 24.0\n",
      "[notice] To update, run: python.exe -m pip install --upgrade pip\n"
     ]
    }
   ],
   "source": [
    "pip install sympy"
   ]
  },
  {
   "cell_type": "code",
   "execution_count": null,
   "metadata": {},
   "outputs": [],
   "source": [
    "from sympy import*"
   ]
  },
  {
   "cell_type": "code",
   "execution_count": 20,
   "metadata": {},
   "outputs": [],
   "source": [
    "x = Symbol('x')"
   ]
  },
  {
   "cell_type": "code",
   "execution_count": 21,
   "metadata": {},
   "outputs": [
    {
     "data": {
      "text/latex": [
       "$\\displaystyle x^{2}$"
      ],
      "text/plain": [
       "x**2"
      ]
     },
     "execution_count": 21,
     "metadata": {},
     "output_type": "execute_result"
    }
   ],
   "source": [
    "x**2"
   ]
  },
  {
   "cell_type": "code",
   "execution_count": 22,
   "metadata": {},
   "outputs": [
    {
     "data": {
      "text/latex": [
       "$\\displaystyle x^{2} + 10 x + 10$"
      ],
      "text/plain": [
       "x**2 + 10*x + 10"
      ]
     },
     "execution_count": 22,
     "metadata": {},
     "output_type": "execute_result"
    }
   ],
   "source": [
    "x**2 + x*10 + 10"
   ]
  },
  {
   "cell_type": "code",
   "execution_count": 23,
   "metadata": {},
   "outputs": [
    {
     "data": {
      "text/latex": [
       "$\\displaystyle \\frac{d}{d x} x^{2}$"
      ],
      "text/plain": [
       "Derivative(x**2, x)"
      ]
     },
     "execution_count": 23,
     "metadata": {},
     "output_type": "execute_result"
    }
   ],
   "source": [
    "Derivative(x**2)"
   ]
  },
  {
   "cell_type": "code",
   "execution_count": 27,
   "metadata": {},
   "outputs": [
    {
     "data": {
      "text/latex": [
       "$\\displaystyle \\int x^{2}\\, dx$"
      ],
      "text/plain": [
       "Integral(x**2, x)"
      ]
     },
     "execution_count": 27,
     "metadata": {},
     "output_type": "execute_result"
    }
   ],
   "source": [
    "Integral(x**2)"
   ]
  },
  {
   "cell_type": "code",
   "execution_count": 25,
   "metadata": {},
   "outputs": [
    {
     "data": {
      "text/latex": [
       "$\\displaystyle \\frac{x^{3}}{3}$"
      ],
      "text/plain": [
       "x**3/3"
      ]
     },
     "execution_count": 25,
     "metadata": {},
     "output_type": "execute_result"
    }
   ],
   "source": [
    "Integral(x**2).doit()"
   ]
  },
  {
   "cell_type": "code",
   "execution_count": 28,
   "metadata": {},
   "outputs": [],
   "source": [
    "#Xmatplotilib inline\n",
    "from sympy.plotting import * "
   ]
  },
  {
   "cell_type": "code",
   "execution_count": 29,
   "metadata": {},
   "outputs": [
    {
     "name": "stdout",
     "output_type": "stream",
     "text": [
      "    100 |\\                                                     /\n",
      "        | .                                                   . \n",
      "        |                                                       \n",
      "        |  .                                                 .  \n",
      "        |   \\                                               /   \n",
      "        |    .                                             .    \n",
      "        |                                                       \n",
      "        |     .                                           .     \n",
      "        |      \\                                         /      \n",
      "        |       \\                                       /       \n",
      "     50 |--------\\-------------------------------------/--------\n",
      "        |         \\                                   /         \n",
      "        |          \\                                 /          \n",
      "        |           \\                               /           \n",
      "        |            \\                             /            \n",
      "        |             ..                         ..             \n",
      "        |               \\                       /               \n",
      "        |                ..                   ..                \n",
      "        |                  ..               ..                  \n",
      "        |                    ...         ...                    \n",
      "      0 |_______________________________________________________\n",
      "         -10                        0                          10\n"
     ]
    },
    {
     "data": {
      "text/plain": [
       "<sympy.plotting.plot.Plot at 0x24d94667d50>"
      ]
     },
     "execution_count": 29,
     "metadata": {},
     "output_type": "execute_result"
    }
   ],
   "source": [
    "plot(x**2)"
   ]
  },
  {
   "cell_type": "code",
   "execution_count": 30,
   "metadata": {},
   "outputs": [
    {
     "data": {
      "text/plain": [
       "False"
      ]
     },
     "execution_count": 30,
     "metadata": {},
     "output_type": "execute_result"
    }
   ],
   "source": [
    "nota = 6\n",
    "média = 7\n",
    "\n",
    "nota == média"
   ]
  },
  {
   "cell_type": "code",
   "execution_count": 31,
   "metadata": {},
   "outputs": [
    {
     "data": {
      "text/plain": [
       "False"
      ]
     },
     "execution_count": 31,
     "metadata": {},
     "output_type": "execute_result"
    }
   ],
   "source": [
    "salário = 100\n",
    "idade = 20\n",
    "\n",
    "salário > 1000 and idade > 18"
   ]
  },
  {
   "cell_type": "code",
   "execution_count": 32,
   "metadata": {},
   "outputs": [
    {
     "data": {
      "text/plain": [
       "False"
      ]
     },
     "execution_count": 32,
     "metadata": {},
     "output_type": "execute_result"
    }
   ],
   "source": [
    "nota = 6\n",
    "presença = 75\n",
    "\n",
    "nota >= 7 and presença >= 75"
   ]
  },
  {
   "cell_type": "code",
   "execution_count": 34,
   "metadata": {},
   "outputs": [
    {
     "data": {
      "text/plain": [
       "'n Python'"
      ]
     },
     "execution_count": 34,
     "metadata": {},
     "output_type": "execute_result"
    }
   ],
   "source": [
    "s = \"Let's learn Python\"\n",
    "\n",
    "s[10:]"
   ]
  },
  {
   "cell_type": "code",
   "execution_count": 39,
   "metadata": {},
   "outputs": [
    {
     "name": "stdout",
     "output_type": "stream",
     "text": [
      "Meu nome é leo, tenho 18 anos e moro na cidade de sp.\n"
     ]
    }
   ],
   "source": [
    "nome = input(\"Meu nome é:\")\n",
    "idade = int(input(\"Minha idade é:\"))\n",
    "cidade = input(\"Minha cidade é:\")\n",
    "\n",
    "if idade == 1:\n",
    "    anos = \"\"\n",
    "else:\n",
    "    anos = \"s\"\n",
    "     \n",
    "\n",
    "texto = f\"Meu nome é {nome}, tenho {idade} ano{anos} e moro na cidade de {cidade}.\"\n",
    "\n",
    "print(texto)"
   ]
  },
  {
   "cell_type": "code",
   "execution_count": 41,
   "metadata": {},
   "outputs": [
    {
     "data": {
      "text/plain": [
       "'Meu nome é Leo, tenho 30 anos e moro na cidade de Sp.'"
      ]
     },
     "execution_count": 41,
     "metadata": {},
     "output_type": "execute_result"
    }
   ],
   "source": [
    "\"Meu nome é %s, tenho %d anos e moro na cidade de %s.\" %(\"Leo\", 30, \"Sp\")"
   ]
  },
  {
   "cell_type": "code",
   "execution_count": 42,
   "metadata": {},
   "outputs": [
    {
     "data": {
      "text/plain": [
       "'Meu nome é Leo, tenho 18 anos e moro na cidade de Sp.'"
      ]
     },
     "execution_count": 42,
     "metadata": {},
     "output_type": "execute_result"
    }
   ],
   "source": [
    "nome = \"Leo\"\n",
    "idade = 18\n",
    "cidade = \"Sp\"\n",
    "\n",
    "\"Meu nome é %s, tenho %d anos e moro na cidade de %s.\" %(nome, idade, cidade)"
   ]
  },
  {
   "cell_type": "code",
   "execution_count": 11,
   "metadata": {},
   "outputs": [
    {
     "data": {
      "text/plain": [
       "'Leo tem 18 anos e R$ 51.5 no bolso'"
      ]
     },
     "execution_count": 11,
     "metadata": {},
     "output_type": "execute_result"
    }
   ],
   "source": [
    "nome = \"Leo\"\n",
    "idade = 18\n",
    "dinheiro = 51.51\n",
    "\n",
    "\"%s tem %02d anos e R$%5.2f no bolso\" %(nome, idade, dinheiro)"
   ]
  },
  {
   "cell_type": "code",
   "execution_count": 47,
   "metadata": {},
   "outputs": [
    {
     "name": "stdout",
     "output_type": "stream",
     "text": [
      "Leo tem 18 e R$51.51 no bolso\n"
     ]
    }
   ],
   "source": [
    "print(f\"{nome} tem {idade} e R${dinheiro} no bolso\")"
   ]
  },
  {
   "cell_type": "code",
   "execution_count": 48,
   "metadata": {},
   "outputs": [
    {
     "name": "stdout",
     "output_type": "stream",
     "text": [
      "Hello World\n"
     ]
    }
   ],
   "source": [
    "string1 = \"Hello\"\n",
    "string2 = \"World\"\n",
    "concatenated_string = string1 + \" \" + string2\n",
    "print(concatenated_string)"
   ]
  },
  {
   "cell_type": "code",
   "execution_count": 3,
   "metadata": {},
   "outputs": [
    {
     "name": "stdout",
     "output_type": "stream",
     "text": [
      "t\n"
     ]
    }
   ],
   "source": [
    "string = \"Python\"\n",
    "char = string[2]\n",
    "print(char)"
   ]
  },
  {
   "cell_type": "code",
   "execution_count": 58,
   "metadata": {},
   "outputs": [
    {
     "name": "stdout",
     "output_type": "stream",
     "text": [
      "bonono\n"
     ]
    }
   ],
   "source": [
    "string = \"banana\"\n",
    "new_string = string.replace(\"a\", \"o\")\n",
    "print(new_string)"
   ]
  },
  {
   "cell_type": "code",
   "execution_count": 77,
   "metadata": {},
   "outputs": [
    {
     "name": "stdout",
     "output_type": "stream",
     "text": [
      "Leonardo Farias Silva\n"
     ]
    }
   ],
   "source": [
    "primeiro_nome = input(\"Meu primeiro nome é:\")\n",
    "segundo_nome = input(\"Meu segundo nome é:\")\n",
    "terceiro_nome = input(\"Meu terceiro nome é:\")\n",
    "\n",
    "primeira_letra = primeiro_nome[0].upper()\n",
    "segunda_letra = segundo_nome[0].upper()\n",
    "terceira_letra = terceiro_nome[0].upper()\n",
    "\n",
    "primeira_resto = primeiro_nome[1:]\n",
    "segunda_resto = segundo_nome[1:]\n",
    "terceira_resto = terceiro_nome[1:]\n",
    "\n",
    "nome_completo = primeira_letra + primeira_resto + \" \" + segunda_letra + segunda_resto + \" \" + terceira_letra + terceira_resto\n",
    "\n",
    "print(nome_completo)\n"
   ]
  },
  {
   "cell_type": "code",
   "execution_count": 13,
   "metadata": {},
   "outputs": [
    {
     "name": "stdout",
     "output_type": "stream",
     "text": [
      "Leo Leo Leo\n"
     ]
    }
   ],
   "source": [
    "primeiro_nome = input(\"Meu primeiro nome é:\")\n",
    "segundo_nome = input(\"Meu segundo nome é:\")\n",
    "terceiro_nome = input(\"Meu terceiro nome é:\")\n",
    "\n",
    "primeira_letra = primeiro_nome[0].upper()\n",
    "segunda_letra = segundo_nome[0].upper()\n",
    "terceira_letra = terceiro_nome[0].upper()\n",
    "\n",
    "primeira_resto = primeiro_nome[1:]\n",
    "segunda_resto = segundo_nome[1:]\n",
    "terceira_resto = terceiro_nome[1:]\n",
    "\n",
    "nome_completo = primeira_letra + primeira_resto + \" \" + segunda_letra + segunda_resto + \" \" + terceira_letra + terceira_resto\n",
    "\n",
    "print(nome_completo)"
   ]
  },
  {
   "attachments": {},
   "cell_type": "markdown",
   "metadata": {},
   "source": [
    "# 22/3"
   ]
  },
  {
   "cell_type": "code",
   "execution_count": 3,
   "metadata": {},
   "outputs": [
    {
     "name": "stdout",
     "output_type": "stream",
     "text": [
      "Exame 5.666666666666667\n"
     ]
    }
   ],
   "source": [
    "# Exercício 1\n",
    "\n",
    "n1 = 10\n",
    "n2 = 5\n",
    "n3 =7\n",
    "\n",
    "media = (n1 + n2 + n3) / 3\n",
    "\n",
    "if media >= 7:\n",
    "    print(\"Aprovado\", media)\n",
    "elif 7 > media >= 4:\n",
    "    print(\"Exame\", media)\n",
    "else :\n",
    "    print(\"Reprovado\", média)"
   ]
  },
  {
   "cell_type": "code",
   "execution_count": 5,
   "metadata": {},
   "outputs": [
    {
     "name": "stdout",
     "output_type": "stream",
     "text": [
      "Note: you may need to restart the kernel to use updated packages.\n"
     ]
    },
    {
     "name": "stderr",
     "output_type": "stream",
     "text": [
      "ERROR: Could not find a version that satisfies the requirement tkinter (from versions: none)\n",
      "ERROR: No matching distribution found for tkinter\n",
      "\n",
      "[notice] A new release of pip is available: 23.1.2 -> 24.0\n",
      "[notice] To update, run: python.exe -m pip install --upgrade pip\n"
     ]
    }
   ],
   "source": [
    "pip install tkinter"
   ]
  },
  {
   "cell_type": "code",
   "execution_count": 26,
   "metadata": {},
   "outputs": [
    {
     "name": "stdout",
     "output_type": "stream",
     "text": [
      "Aprovado 6.0\n"
     ]
    }
   ],
   "source": [
    "n1 = int(input(\"Insira sua primeira nota\"))\n",
    "n2 = int(input(\"Insira sua segunda nota\"))\n",
    "n3 = int(input(\"Insira sua terceira nota\"))\n",
    "artigo = input(\"Você publicou um artigo?\")\n",
    "media = (n1 + n2 + n3) / 3\n",
    "\n",
    "if (artigo == \"sim\") or (artigo == \"Sim\"):\n",
    "    print(\"Aprovado\", media)\n",
    "elif media >= 7:\n",
    "    print(\"Aprovado\", media)\n",
    "elif 7 > media >= 4:\n",
    "    print(\"Exame\", media)\n",
    "else :\n",
    "    print(\"Reprovado\", média)"
   ]
  },
  {
   "cell_type": "code",
   "execution_count": 17,
   "metadata": {},
   "outputs": [
    {
     "name": "stdout",
     "output_type": "stream",
     "text": [
      "O valor da sua multa é: R$50,00\n"
     ]
    }
   ],
   "source": [
    "velocidade = int(input(\"Qual a velocidade atual do seu carro?\"))\n",
    "multa = (velocidade - 80) * 5\n",
    "\n",
    "if velocidade > 80:\n",
    "    print(f\"O valor da sua multa é: R${multa},00\")\n",
    "else:\n",
    "    print(\"Você não possui nenhuma multa\")\n",
    "    "
   ]
  },
  {
   "cell_type": "code",
   "execution_count": 31,
   "metadata": {},
   "outputs": [
    {
     "name": "stdout",
     "output_type": "stream",
     "text": [
      "Você é uma adulto\n"
     ]
    }
   ],
   "source": [
    "idade = int(input(\"Qual a sua idade?\"))\n",
    "\n",
    "if idade < 12:\n",
    "    print(\"Você é uma criança\")\n",
    "elif 12 <= idade < 18:\n",
    "    print(\"Você é uma adolescente\")\n",
    "elif 18 <= idade < 65:\n",
    "    print(\"Você é uma adulto\")\n",
    "else:\n",
    "    print(\"Você é uma idoso\")"
   ]
  },
  {
   "cell_type": "code",
   "execution_count": 15,
   "metadata": {},
   "outputs": [
    {
     "name": "stdout",
     "output_type": "stream",
     "text": [
      "Seu número é impar\n"
     ]
    }
   ],
   "source": [
    "numero = int(input(\"Insira um número\"))\n",
    "\n",
    "if numero % 2 == 0:\n",
    "    print(\"Seu número é par\")\n",
    "else:\n",
    "    print(\"Seu número é impar\")"
   ]
  },
  {
   "cell_type": "code",
   "execution_count": 52,
   "metadata": {},
   "outputs": [
    {
     "name": "stdout",
     "output_type": "stream",
     "text": [
      "Número 1: 10\n",
      "Número 2: 10\n",
      "Número 2: 55\n",
      "Número 3 é o maior número\n"
     ]
    }
   ],
   "source": [
    "n1 = int(input(\"Insira um número\"))\n",
    "n2 = int(input(\"Insira um número\"))\n",
    "n3 = int(input(\"Insira um número\"))\n",
    "print(\"Número 1:\", n1)\n",
    "print(\"Número 2:\", n2)\n",
    "print(\"Número 3:\", n3)\n",
    "\n",
    "if n1 > n2 > n3:\n",
    "    print(\"Número 1 é o maior número\")\n",
    "elif n1 < n2 > n3:\n",
    "    print(\"Número 2 é o maior número\")\n",
    "elif n1 < n2 < n3:\n",
    "    print(\"Número 3 é o maior número\")\n",
    "elif n1 == n2 > n3:\n",
    "    print(\"Número 1 e 2 são os maiores números\")\n",
    "elif n1 == n2 < n3:\n",
    "    print(\"Número 3 é o maior número\")\n",
    "elif n1 < n2 == n3:\n",
    "    print(\"Número 2 e 3 são os maiors números\")\n",
    "elif n1 > n2 == n3:\n",
    "    print(\"Número 1 é o maior número\")\n",
    "elif n1 == n3 > n2:\n",
    "    print(\"Número 1 e 3 são os maiors números\")\n",
    "elif n1 == n3 < n2:\n",
    "    print(\"Número 2 é o maior número\")\n",
    "else:\n",
    "    print(\"Todos os números são iguais\")"
   ]
  },
  {
   "cell_type": "code",
   "execution_count": 53,
   "metadata": {},
   "outputs": [
    {
     "name": "stdout",
     "output_type": "stream",
     "text": [
      "A sua cor é azul\n"
     ]
    }
   ],
   "source": [
    "cor = input(\"Qual sua cor favorita?\")\n",
    "print(f\"A sua cor é {cor}\")"
   ]
  },
  {
   "cell_type": "code",
   "execution_count": 69,
   "metadata": {},
   "outputs": [
    {
     "name": "stdout",
     "output_type": "stream",
     "text": [
      "Seu imposto a ser pago é de R$1200.00\n",
      "Seu salário restante é 3800.0\n"
     ]
    }
   ],
   "source": [
    "salario = int(input(\"Insira seu salário\"))\n",
    "\n",
    "if salario < 2000:\n",
    "    imposto = salario / 100 * 10\n",
    "    print(f\"Seu imposto a ser pago é de R${imposto}0\")\n",
    "    print(f\"Seu salário restante é {salario - imposto}0\")\n",
    "elif 2000 <= salario < 5000:\n",
    "    imposto = salario / 100 * 20\n",
    "    print(f\"Seu imposto a ser pago é de R${imposto}0\")\n",
    "    print(f\"Seu salário restante é {salario - imposto}0\")\n",
    "elif 5000 <= salario < 10000:\n",
    "    imposto = salario / 100 * 24\n",
    "    print(f\"Seu imposto a ser pago é de R${imposto}0\")\n",
    "    print(f\"Seu salário restante é {salario - imposto}0\")\n",
    "else:\n",
    "    imposto = salario / 100 * 30\n",
    "    print(f\"Seu imposto a ser pago é de R${imposto}0\")\n",
    "    print(f\"Seu salário restante é {salario - imposto}0\")"
   ]
  },
  {
   "cell_type": "code",
   "execution_count": 76,
   "metadata": {},
   "outputs": [
    {
     "name": "stdout",
     "output_type": "stream",
     "text": [
      "Dia de balada\n"
     ]
    }
   ],
   "source": [
    "dia = str(input(\"Insira o dia da semana\"))\n",
    "programa = dia.upper()\n",
    "\n",
    "if (programa == \"SEGUNDA\") or (programa == \"TERÇA\") or (programa == \"QUARTA\") or (programa == \"QUINTA\") or (programa == \"SEXTA\"): \n",
    "    print(\"Dia de estudar ou trabalhar\")\n",
    "elif (programa == \"DOMINGO\"):\n",
    "    print(\"Dia de netflix, futebol ou cinema\")\n",
    "else: \n",
    "    print(\"Dia de balada\")"
   ]
  },
  {
   "cell_type": "code",
   "execution_count": 87,
   "metadata": {},
   "outputs": [
    {
     "name": "stdout",
     "output_type": "stream",
     "text": [
      "Você não possui título de eleitor\n"
     ]
    }
   ],
   "source": [
    "idade = int(input(\"Insira sua idade\"))\n",
    "eleitor = str(input(\"Seu título de eleitor está ativo?\"))\n",
    "titulo = eleitor.upper()\n",
    "\n",
    "if idade < 16:\n",
    "    print(\"Você não possui a idade mínima para votar\")\n",
    "elif (idade >= 18) & (titulo == \"SIM\"):\n",
    "    print(\"Você é obrigado a votar\")\n",
    "elif (idade >= 18) & (titulo != \"SIM\"):\n",
    "    eleitor = str(input(\"Seu título de eleitor está ativo?\"))\n",
    "    titulo = eleitor.upper()\n",
    "    print(\"Você deve retirar o seu título\")\n",
    "elif (18 <= idade >= 16) & (titulo == \"SIM\"):\n",
    "    eleitor = str(input(\"Seu título de eleitor está ativo?\"))\n",
    "    titulo = eleitor.upper()\n",
    "    print(\"Você pode votar, mas não é obrigado\")\n",
    "elif (16 <= idade <= 18) & (titulo != \"SIM\"):\n",
    "    eleitor = str(input(\"Seu título de eleitor está ativo?\"))\n",
    "    titulo = eleitor.upper()\n",
    "    print(\"Seu voto não é obrigatório, mas caso queira votar, deve tirar o seu título de eleitor\")\n",
    "else: \n",
    "    print(\"Você não possui título de eleitor\")\n",
    "\n",
    "    "
   ]
  },
  {
   "cell_type": "code",
   "execution_count": null,
   "metadata": {},
   "outputs": [],
   "source": [
    "lista = ['segunda', 'terça', 'quarta', 'quinta', 'sexta']\n",
    "\n",
    "dia = str(input(\"Digite o dia da semana\"))\n",
    "\n",
    "if dia in lista:\n",
    "    print(\"Dia está na lista\")"
   ]
  },
  {
   "attachments": {},
   "cell_type": "markdown",
   "metadata": {},
   "source": [
    "# 05/04"
   ]
  },
  {
   "cell_type": "code",
   "execution_count": 18,
   "metadata": {},
   "outputs": [
    {
     "name": "stdout",
     "output_type": "stream",
     "text": [
      "Você terá 10% de desconto\n"
     ]
    }
   ],
   "source": [
    "idade = int(input('Digite a sua idade'))\n",
    "total_compra = float(input('Insira o valor da sua conta'))\n",
    "\n",
    "if idade >= 65:\n",
    "    if total_compra >= 100:\n",
    "        print('Você terá 10% de desconto')\n",
    "    else:\n",
    "        print('O desconto só é válido para compras acima de R$100.00')\n",
    "else:\n",
    "    print('O desconto só está disponível para pessoas com 65 anos ou mais')"
   ]
  },
  {
   "cell_type": "code",
   "execution_count": 24,
   "metadata": {},
   "outputs": [
    {
     "name": "stdout",
     "output_type": "stream",
     "text": [
      "Seu carro é da marca Volvo e ele foi fabricado em 2014\n"
     ]
    }
   ],
   "source": [
    "ano_fabricação = int(input('O ano de fabricação do seu carro'))\n",
    "marca_carro = input('Digite a marca do seu carro')\n",
    "marca = marca_carro.upper()\n",
    "\n",
    "if 2015 >= ano_fabricação >= 2013:\n",
    "    if marca == 'VOLVO':\n",
    "        print(f'Seu carro é da marca Volvo e ele foi fabricado em {ano_fabricação}')\n",
    "    else:\n",
    "        print('Seu carro não é Volvo')\n",
    "else:\n",
    "     print('Seu carro não foi fabricado entre 2013 e 2015')"
   ]
  },
  {
   "cell_type": "code",
   "execution_count": 29,
   "metadata": {},
   "outputs": [
    {
     "name": "stdout",
     "output_type": "stream",
     "text": [
      "Boa noite grupo\n"
     ]
    }
   ],
   "source": [
    "hora = int(input('Qual a hora atual?'))\n",
    "temperatura = int(input('Qual a temperatura atual?'))\n",
    "\n",
    "if 6 <= hora < 12:\n",
    "    if temperatura > 20:\n",
    "        print('Bora caminhar')\n",
    "    else:\n",
    "        print('Bora tomar um cafézinho')\n",
    "elif 12 <= hora <= 18:\n",
    "    if temperatura > 25:\n",
    "        print('Hmmmm piquenique')\n",
    "    else:\n",
    "        print('Já pode ao mossar?')\n",
    "else:\n",
    "    print('Boa noite grupo')"
   ]
  },
  {
   "cell_type": "code",
   "execution_count": 34,
   "metadata": {},
   "outputs": [
    {
     "name": "stdout",
     "output_type": "stream",
     "text": [
      "Seu pedido está a caminho\n"
     ]
    }
   ],
   "source": [
    "pedido = int(input('Insira a idade do pedido'))\n",
    "categoria_cliente = input('Insira a sua categoria')\n",
    "cliente = categoria_cliente.upper()\n",
    "\n",
    "if pedido <= 7:\n",
    "    if cliente == 'VIP': \n",
    "        print('Seu pedido está sendo preparado para entrega expressa!')\n",
    "    else:\n",
    "        print('Seu pedido será entregue em breve')\n",
    "elif 7 < pedido <= 14:\n",
    "    if cliente == 'VIP':\n",
    "        print('Sue pedido está em processo de embalagem especial')\n",
    "    else:\n",
    "        print('Seu pedido está sendo preparado')\n",
    "else:\n",
    "    print('Seu pedido está a caminho')"
   ]
  },
  {
   "cell_type": "code",
   "execution_count": 40,
   "metadata": {},
   "outputs": [
    {
     "name": "stdout",
     "output_type": "stream",
     "text": [
      "Acesso autorizado\n"
     ]
    }
   ],
   "source": [
    "usuario = input('Insira seu usuário')\n",
    "user = usuario.upper()\n",
    "\n",
    "if user == 'ADMIN':\n",
    "    senha = input('Insira sua senha')\n",
    "    password = senha.upper()\n",
    "    if password == 'SENHA':\n",
    "        codigo_acesso = input('Insira o código de verificação')\n",
    "        codigo = codigo_acesso.upper()\n",
    "        if codigo == 'CODIGO':\n",
    "            print('Acesso autorizado')\n",
    "        else:\n",
    "            print('Código de verificação incorreto')\n",
    "    else: \n",
    "        print('Senha incorreta')\n",
    "else:\n",
    "    print('Usuário incorreto')"
   ]
  },
  {
   "cell_type": "code",
   "execution_count": 51,
   "metadata": {},
   "outputs": [
    {
     "name": "stdout",
     "output_type": "stream",
     "text": [
      "20.0°F - -21.6°C\n",
      "19.0°F - -23.400000000000002°C\n",
      "18.0°F - -25.2°C\n",
      "17.0°F - -27.0°C\n",
      "16.0°F - -28.8°C\n",
      "15.0°F - -30.6°C\n",
      "14.0°F - -32.4°C\n",
      "13.0°F - -34.2°C\n",
      "12.0°F - -36.0°C\n",
      "11.0°F - -37.800000000000004°C\n",
      "10.0°F - -39.6°C\n",
      "9.0°F - -41.4°C\n",
      "8.0°F - -43.2°C\n",
      "7.0°F - -45.0°C\n",
      "6.0°F - -46.800000000000004°C\n",
      "5.0°F - -48.6°C\n",
      "4.0°F - -50.4°C\n",
      "3.0°F - -52.2°C\n",
      "2.0°F - -54.0°C\n",
      "1.0°F - -55.800000000000004°C\n"
     ]
    }
   ],
   "source": [
    "temp_c = 0\n",
    "temp_f = float(input('Insira uma temperatura em farenheit')) \n",
    "\n",
    "while temp_f != 0:\n",
    "    temp_c = (9/5) * (temp_f - 32)\n",
    "    print(f'{temp_f}°F - {temp_c}°C')\n",
    "    temp_f = temp_f - 1"
   ]
  },
  {
   "cell_type": "code",
   "execution_count": 50,
   "metadata": {},
   "outputs": [
    {
     "name": "stdout",
     "output_type": "stream",
     "text": [
      "1\n",
      "2\n",
      "3\n",
      "4\n",
      "5\n",
      "6\n",
      "7\n",
      "8\n",
      "9\n",
      "10\n",
      "11\n",
      "12\n",
      "13\n",
      "14\n",
      "15\n",
      "16\n",
      "17\n",
      "18\n",
      "19\n",
      "20\n",
      "21\n"
     ]
    }
   ],
   "source": [
    "contador = 1\n",
    "limite = int(input('Insira um valor limite para o contador'))\n",
    "\n",
    "while limite > contador:\n",
    "    print(contador)\n",
    "    contador = contador + 1"
   ]
  },
  {
   "cell_type": "code",
   "execution_count": 60,
   "metadata": {},
   "outputs": [
    {
     "name": "stdout",
     "output_type": "stream",
     "text": [
      "0\n",
      "1\n",
      "2\n",
      "3\n",
      "4\n",
      "5\n",
      "6\n",
      "7\n",
      "8\n",
      "9\n",
      "10\n",
      "10\n",
      "9\n",
      "8\n",
      "7\n",
      "6\n",
      "5\n",
      "4\n",
      "3\n",
      "2\n",
      "1\n",
      "0\n"
     ]
    }
   ],
   "source": [
    "contador1 = 0\n",
    "\n",
    "while contador1 <= 10:\n",
    "    print(contador1)\n",
    "    contador1 = contador1 + 1\n",
    "\n",
    "contador2 = 10\n",
    "\n",
    "while contador2 >= 0:\n",
    "    print(contador2)\n",
    "    contador2 = contador2 - 1"
   ]
  },
  {
   "cell_type": "code",
   "execution_count": 62,
   "metadata": {},
   "outputs": [],
   "source": [
    "lista = [1, 4, 6]\n",
    "lista_letras = ['a', 'b', 'c', 'd']"
   ]
  },
  {
   "cell_type": "code",
   "execution_count": 63,
   "metadata": {},
   "outputs": [
    {
     "name": "stdout",
     "output_type": "stream",
     "text": [
      "3\n",
      "4\n"
     ]
    }
   ],
   "source": [
    "print(len(lista))\n",
    "print(len(lista_letras))"
   ]
  },
  {
   "cell_type": "code",
   "execution_count": 66,
   "metadata": {},
   "outputs": [
    {
     "name": "stdout",
     "output_type": "stream",
     "text": [
      "A letra \"a\" aparece 3 vezes na frase\n"
     ]
    }
   ],
   "source": [
    "frase = input('digite uma frase')\n",
    "\n",
    "contagem  = 0\n",
    "indice = 0\n",
    "\n",
    "while indice < len(frase):\n",
    "    if frase[indice] == 'a':\n",
    "        contagem += 1\n",
    "    indice += 1\n",
    "print(f'A letra \"a\" aparece {contagem} vezes na frase')"
   ]
  },
  {
   "cell_type": "code",
   "execution_count": 74,
   "metadata": {},
   "outputs": [
    {
     "name": "stdout",
     "output_type": "stream",
     "text": [
      "o\n"
     ]
    }
   ],
   "source": [
    "texto = str(input('Insira um texto'))\n",
    "rodrigo = 0\n",
    "\n",
    "\n",
    "print(texto[rodrigo-1])"
   ]
  }
 ],
 "metadata": {
  "kernelspec": {
   "display_name": "Python 3",
   "language": "python",
   "name": "python3"
  },
  "language_info": {
   "codemirror_mode": {
    "name": "ipython",
    "version": 3
   },
   "file_extension": ".py",
   "mimetype": "text/x-python",
   "name": "python",
   "nbconvert_exporter": "python",
   "pygments_lexer": "ipython3",
   "version": "3.11.4"
  },
  "orig_nbformat": 4
 },
 "nbformat": 4,
 "nbformat_minor": 2
}

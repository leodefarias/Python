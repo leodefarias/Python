{
 "cells": [
  {
   "attachments": {},
   "cell_type": "markdown",
   "metadata": {},
   "source": [
    "# Aula 1"
   ]
  },
  {
   "cell_type": "code",
   "execution_count": null,
   "metadata": {},
   "outputs": [],
   "source": [
    "# Estrutura de entrada\n",
    "\n",
    "raio = 10\n",
    "\n",
    "area = 3.1415 * (raio ** 2)\n",
    "\n",
    "print(\"A área do círculo é\", area)"
   ]
  },
  {
   "cell_type": "code",
   "execution_count": null,
   "metadata": {},
   "outputs": [],
   "source": [
    "# Estrutura de entrada\n",
    "\n",
    "raio = float(input(\"Digite o valor do raio\"))\n",
    "\n",
    "area = 3.1415 * (raio ** 2)\n",
    "\n",
    "print(\"A área do círculo é\", area)"
   ]
  },
  {
   "cell_type": "code",
   "execution_count": 13,
   "metadata": {},
   "outputs": [],
   "source": [
    "Var1 = 'F'\n",
    "Var2 = 'I'\n",
    "Var3 = 'A'\n",
    "Var4 = 'P'\n",
    "Var_total = Var1 + Var2 + Var3 + Var4"
   ]
  },
  {
   "cell_type": "code",
   "execution_count": 16,
   "metadata": {},
   "outputs": [
    {
     "name": "stdout",
     "output_type": "stream",
     "text": [
      "O resultado é 18.0\n"
     ]
    }
   ],
   "source": [
    "x = float(input(\"Digite um valor\"))\n",
    "\n",
    "resultado = 2 * x + 10\n",
    "\n",
    "print(\"O valor de x é\", x)\n",
    "\n",
    "print(\"O resultado é\", resultado)"
   ]
  },
  {
   "cell_type": "code",
   "execution_count": 17,
   "metadata": {},
   "outputs": [
    {
     "name": "stdout",
     "output_type": "stream",
     "text": [
      "O resultado é 45.0\n"
     ]
    }
   ],
   "source": [
    "x = float(input(\"Digite um valor\"))\n",
    "\n",
    "resultado = 25 * x - 5\n",
    "\n",
    "print(\"O valor de x é\", x)\n",
    "\n",
    "print(\"O resultado é\", resultado)"
   ]
  },
  {
   "cell_type": "code",
   "execution_count": 19,
   "metadata": {},
   "outputs": [
    {
     "name": "stdout",
     "output_type": "stream",
     "text": [
      "O valor de x é 2.0\n",
      "O resultado é 54.0\n"
     ]
    }
   ],
   "source": [
    "x = float(input(\"Digite um valor\"))\n",
    "\n",
    "resultado = (10 * x ** 2) + (2 * x) + 10\n",
    "\n",
    "print(\"O valor de x é\", x)\n",
    "\n",
    "print(\"O resultado é\", resultado)"
   ]
  },
  {
   "cell_type": "code",
   "execution_count": 20,
   "metadata": {},
   "outputs": [
    {
     "name": "stdout",
     "output_type": "stream",
     "text": [
      "A medida em milimetros é 54000.0\n"
     ]
    }
   ],
   "source": [
    "metro = float(input(\"Insira a medida em metros\"))\n",
    "\n",
    "milimetro = metro * 1000\n",
    "\n",
    "print(\"A medida em milimetros é\", milimetro)"
   ]
  },
  {
   "cell_type": "code",
   "execution_count": 21,
   "metadata": {},
   "outputs": [
    {
     "name": "stdout",
     "output_type": "stream",
     "text": [
      "O seu tempo total é de 900610.0 Segundos\n"
     ]
    }
   ],
   "source": [
    "dias = float(input(\"Insira os dias\"))\n",
    "\n",
    "horas = float(input(\"Insira as horas\"))\n",
    "\n",
    "minutos = float(input(\"Insira os minutos\"))\n",
    "\n",
    "segundos = float(input(\"Insira os segundos\"))\n",
    "\n",
    "tempo_total = (dias * 24 * 60 * 60) + (horas * 60 * 60) +  (minutos * 60) + segundos\n",
    "\n",
    "print(\"O seu tempo total é de\", tempo_total, \"Segundos\")"
   ]
  },
  {
   "cell_type": "code",
   "execution_count": 32,
   "metadata": {},
   "outputs": [
    {
     "name": "stdout",
     "output_type": "stream",
     "text": [
      "o valor final é de 35.0 reais\n",
      "o desconto foi de 30.0 %\n"
     ]
    }
   ],
   "source": [
    "preço = float(input(\"Insira o preço\"))\n",
    "\n",
    "desconto = float(input(\"Insira o desconto\"))\n",
    "\n",
    "valor_final = preço - ((desconto / 100) * preço)\n",
    "\n",
    "print(\"o valor final é de\", valor_final, \"reais\")\n",
    "\n",
    "print(\"o desconto foi de\", desconto,\"%\")"
   ]
  },
  {
   "cell_type": "code",
   "execution_count": 25,
   "metadata": {},
   "outputs": [
    {
     "name": "stdout",
     "output_type": "stream",
     "text": [
      "O tempo do trajeto foi de 10.0 horas\n"
     ]
    }
   ],
   "source": [
    "distancia = float(input(\"Insira a distancia em km\"))\n",
    "\n",
    "velocidade = float(input(\"Insira a velocidade em km/h\"))\n",
    "\n",
    "tempo = distancia / velocidade\n",
    "\n",
    "print(\"O tempo do trajeto foi de\", tempo, \"horas\")"
   ]
  }
 ],
 "metadata": {
  "kernelspec": {
   "display_name": "Python 3",
   "language": "python",
   "name": "python3"
  },
  "language_info": {
   "codemirror_mode": {
    "name": "ipython",
    "version": 3
   },
   "file_extension": ".py",
   "mimetype": "text/x-python",
   "name": "python",
   "nbconvert_exporter": "python",
   "pygments_lexer": "ipython3",
   "version": "3.11.4"
  },
  "orig_nbformat": 4
 },
 "nbformat": 4,
 "nbformat_minor": 2
}

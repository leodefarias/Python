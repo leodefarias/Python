{
 "cells": [
  {
   "attachments": {},
   "cell_type": "markdown",
   "metadata": {},
   "source": [
    "# Aula 1"
   ]
  },
  {
   "cell_type": "code",
   "execution_count": null,
   "metadata": {},
   "outputs": [],
   "source": [
    "# Estrutura de entrada\n",
    "\n",
    "raio = 10\n",
    "\n",
    "area = 3.1415 * (raio ** 2)\n",
    "\n",
    "print(\"A área do círculo é\", area)"
   ]
  },
  {
   "cell_type": "code",
   "execution_count": null,
   "metadata": {},
   "outputs": [],
   "source": [
    "# Estrutura de entrada\n",
    "\n",
    "raio = float(input(\"Digite o valor do raio\"))\n",
    "\n",
    "area = 3.1415 * (raio ** 2)\n",
    "\n",
    "print(\"A área do círculo é\", area)"
   ]
  },
  {
   "cell_type": "code",
   "execution_count": null,
   "metadata": {},
   "outputs": [],
   "source": [
    "Var1 = 'F'\n",
    "Var2 = 'I'\n",
    "Var3 = 'A'\n",
    "Var4 = 'P'\n",
    "Var_total = Var1 + Var2 + Var3 + Var4"
   ]
  },
  {
   "cell_type": "code",
   "execution_count": null,
   "metadata": {},
   "outputs": [],
   "source": [
    "x = float(input(\"Digite um valor\"))\n",
    "\n",
    "resultado = 2 * x + 10\n",
    "\n",
    "print(\"O valor de x é\", x)\n",
    "\n",
    "print(\"O resultado é\", resultado)"
   ]
  },
  {
   "cell_type": "code",
   "execution_count": null,
   "metadata": {},
   "outputs": [],
   "source": [
    "x = float(input(\"Digite um valor\"))\n",
    "\n",
    "resultado = 25 * x - 5\n",
    "\n",
    "print(\"O valor de x é\", x)\n",
    "\n",
    "print(\"O resultado é\", resultado)"
   ]
  },
  {
   "cell_type": "code",
   "execution_count": null,
   "metadata": {},
   "outputs": [],
   "source": [
    "x = float(input(\"Digite um valor\"))\n",
    "\n",
    "resultado = (10 * x ** 2) + (2 * x) + 10\n",
    "\n",
    "print(\"O valor de x é\", x)\n",
    "\n",
    "print(\"O resultado é\", resultado)"
   ]
  },
  {
   "cell_type": "code",
   "execution_count": null,
   "metadata": {},
   "outputs": [],
   "source": [
    "metro = float(input(\"Insira a medida em metros\"))\n",
    "\n",
    "milimetro = metro * 1000\n",
    "\n",
    "print(\"A medida em milimetros é\", milimetro)"
   ]
  },
  {
   "cell_type": "code",
   "execution_count": null,
   "metadata": {},
   "outputs": [],
   "source": [
    "dias = float(input(\"Insira os dias\"))\n",
    "\n",
    "horas = float(input(\"Insira as horas\"))\n",
    "\n",
    "minutos = float(input(\"Insira os minutos\"))\n",
    "\n",
    "segundos = float(input(\"Insira os segundos\"))\n",
    "\n",
    "tempo_total = (dias * 24 * 60 * 60) + (horas * 60 * 60) +  (minutos * 60) + segundos\n",
    "\n",
    "print(\"O seu tempo total é de\", tempo_total, \"Segundos\")"
   ]
  },
  {
   "cell_type": "code",
   "execution_count": null,
   "metadata": {},
   "outputs": [],
   "source": [
    "preço = float(input(\"Insira o preço\"))\n",
    "\n",
    "desconto = float(input(\"Insira o desconto\"))\n",
    "\n",
    "valor_final = preço - ((desconto / 100) * preço)\n",
    "\n",
    "print(\"o valor final é de\", valor_final, \"reais\")\n",
    "\n",
    "print(\"o desconto foi de\", desconto,\"%\")"
   ]
  },
  {
   "cell_type": "code",
   "execution_count": null,
   "metadata": {},
   "outputs": [],
   "source": [
    "distancia = float(input(\"Insira a distancia em km\"))\n",
    "\n",
    "velocidade = float(input(\"Insira a velocidade em km/h\"))\n",
    "\n",
    "tempo = distancia / velocidade\n",
    "\n",
    "print(\"O tempo do trajeto foi de\", tempo, \"horas\")"
   ]
  },
  {
   "cell_type": "code",
   "execution_count": null,
   "metadata": {},
   "outputs": [],
   "source": [
    "tensao = float(input(\"Insira a tensao\"))\n",
    "\n",
    "corrente = float(input(\"Insira a corrente\"))\n",
    "\n",
    "resistencia = float(input(\"Insira a resistencia\"))\n",
    "\n",
    "if resistencia == 0:\n",
    "    potencia = tensao * corrente \n",
    "    print(\"A potência é de \", potencia, \"watts\")\n",
    "elif tensao == 0:\n",
    "    potencia = resistencia * corrente * corrente\n",
    "    print(\"A potência é de \", potencia, \"watts\")\n",
    "elif corrente == 0:\n",
    "    potencia = (tensao ** 2) / resistencia\n",
    "    print(\"A potência é de \", potencia, \"watts\")\n"
   ]
  },
  {
   "cell_type": "code",
   "execution_count": null,
   "metadata": {},
   "outputs": [],
   "source": [
    "km = float(input(\"Insira a quantidade de km percorridos\"))\n",
    "\n",
    "dias = float(input(\"Insira a quantidade de dias que ele foi alugado\"))\n",
    "\n",
    "preço = (km * 0.15) + (dias * 60)\n",
    "\n",
    "print(\"O preço final a pagar é\", preço, \"reais\")"
   ]
  },
  {
   "attachments": {},
   "cell_type": "markdown",
   "metadata": {},
   "source": [
    "# 15/03"
   ]
  },
  {
   "cell_type": "code",
   "execution_count": null,
   "metadata": {},
   "outputs": [],
   "source": [
    "pip install sympy"
   ]
  },
  {
   "cell_type": "code",
   "execution_count": null,
   "metadata": {},
   "outputs": [],
   "source": [
    "from sympy import*"
   ]
  },
  {
   "cell_type": "code",
   "execution_count": null,
   "metadata": {},
   "outputs": [],
   "source": [
    "x = Symbol('x')"
   ]
  },
  {
   "cell_type": "code",
   "execution_count": null,
   "metadata": {},
   "outputs": [],
   "source": [
    "x**2"
   ]
  },
  {
   "cell_type": "code",
   "execution_count": null,
   "metadata": {},
   "outputs": [],
   "source": [
    "x**2 + x*10 + 10"
   ]
  },
  {
   "cell_type": "code",
   "execution_count": null,
   "metadata": {},
   "outputs": [],
   "source": [
    "Derivative(x**2)"
   ]
  },
  {
   "cell_type": "code",
   "execution_count": null,
   "metadata": {},
   "outputs": [],
   "source": [
    "Integral(x**2)"
   ]
  },
  {
   "cell_type": "code",
   "execution_count": null,
   "metadata": {},
   "outputs": [],
   "source": [
    "Integral(x**2).doit()"
   ]
  },
  {
   "cell_type": "code",
   "execution_count": null,
   "metadata": {},
   "outputs": [],
   "source": [
    "#Xmatplotilib inline\n",
    "from sympy.plotting import * "
   ]
  },
  {
   "cell_type": "code",
   "execution_count": null,
   "metadata": {},
   "outputs": [],
   "source": [
    "plot(x**2)"
   ]
  },
  {
   "cell_type": "code",
   "execution_count": null,
   "metadata": {},
   "outputs": [],
   "source": [
    "nota = 6\n",
    "média = 7\n",
    "\n",
    "nota == média"
   ]
  },
  {
   "cell_type": "code",
   "execution_count": null,
   "metadata": {},
   "outputs": [],
   "source": [
    "salário = 100\n",
    "idade = 20\n",
    "\n",
    "salário > 1000 and idade > 18"
   ]
  },
  {
   "cell_type": "code",
   "execution_count": null,
   "metadata": {},
   "outputs": [],
   "source": [
    "nota = 6\n",
    "presença = 75\n",
    "\n",
    "nota >= 7 and presença >= 75"
   ]
  },
  {
   "cell_type": "code",
   "execution_count": null,
   "metadata": {},
   "outputs": [],
   "source": [
    "s = \"Let's learn Python\"\n",
    "\n",
    "s[10:]"
   ]
  },
  {
   "cell_type": "code",
   "execution_count": null,
   "metadata": {},
   "outputs": [],
   "source": [
    "nome = input(\"Meu nome é:\")\n",
    "idade = int(input(\"Minha idade é:\"))\n",
    "cidade = input(\"Minha cidade é:\")\n",
    "\n",
    "if idade == 1:\n",
    "    anos = \"\"\n",
    "else:\n",
    "    anos = \"s\"\n",
    "     \n",
    "\n",
    "texto = f\"Meu nome é {nome}, tenho {idade} ano{anos} e moro na cidade de {cidade}.\"\n",
    "\n",
    "print(texto)"
   ]
  },
  {
   "cell_type": "code",
   "execution_count": null,
   "metadata": {},
   "outputs": [],
   "source": [
    "\"Meu nome é %s, tenho %d anos e moro na cidade de %s.\" %(\"Leo\", 30, \"Sp\")"
   ]
  },
  {
   "cell_type": "code",
   "execution_count": null,
   "metadata": {},
   "outputs": [],
   "source": [
    "nome = \"Leo\"\n",
    "idade = 18\n",
    "cidade = \"Sp\"\n",
    "\n",
    "\"Meu nome é %s, tenho %d anos e moro na cidade de %s.\" %(nome, idade, cidade)"
   ]
  },
  {
   "cell_type": "code",
   "execution_count": null,
   "metadata": {},
   "outputs": [],
   "source": [
    "nome = \"Leo\"\n",
    "idade = 18\n",
    "dinheiro = 51.51\n",
    "\n",
    "\"%s tem %02d anos e R$%5.2f no bolso\" %(nome, idade, dinheiro)"
   ]
  },
  {
   "cell_type": "code",
   "execution_count": null,
   "metadata": {},
   "outputs": [],
   "source": [
    "print(f\"{nome} tem {idade} e R${dinheiro} no bolso\")"
   ]
  },
  {
   "cell_type": "code",
   "execution_count": null,
   "metadata": {},
   "outputs": [],
   "source": [
    "string1 = \"Hello\"\n",
    "string2 = \"World\"\n",
    "concatenated_string = string1 + \" \" + string2\n",
    "print(concatenated_string)"
   ]
  },
  {
   "cell_type": "code",
   "execution_count": null,
   "metadata": {},
   "outputs": [],
   "source": [
    "string = \"Python\"\n",
    "char = string[2]\n",
    "print(char)"
   ]
  },
  {
   "cell_type": "code",
   "execution_count": null,
   "metadata": {},
   "outputs": [],
   "source": [
    "string = \"banana\"\n",
    "new_string = string.replace(\"a\", \"o\")\n",
    "print(new_string)"
   ]
  },
  {
   "cell_type": "code",
   "execution_count": null,
   "metadata": {},
   "outputs": [],
   "source": [
    "primeiro_nome = input(\"Meu primeiro nome é:\")\n",
    "segundo_nome = input(\"Meu segundo nome é:\")\n",
    "terceiro_nome = input(\"Meu terceiro nome é:\")\n",
    "\n",
    "primeira_letra = primeiro_nome[0].upper()\n",
    "segunda_letra = segundo_nome[0].upper()\n",
    "terceira_letra = terceiro_nome[0].upper()\n",
    "\n",
    "primeira_resto = primeiro_nome[1:]\n",
    "segunda_resto = segundo_nome[1:]\n",
    "terceira_resto = terceiro_nome[1:]\n",
    "\n",
    "nome_completo = primeira_letra + primeira_resto + \" \" + segunda_letra + segunda_resto + \" \" + terceira_letra + terceira_resto\n",
    "\n",
    "print(nome_completo)\n"
   ]
  },
  {
   "cell_type": "code",
   "execution_count": null,
   "metadata": {},
   "outputs": [],
   "source": [
    "primeiro_nome = input(\"Meu primeiro nome é:\")\n",
    "segundo_nome = input(\"Meu segundo nome é:\")\n",
    "terceiro_nome = input(\"Meu terceiro nome é:\")\n",
    "\n",
    "primeira_letra = primeiro_nome[0].upper()\n",
    "segunda_letra = segundo_nome[0].upper()\n",
    "terceira_letra = terceiro_nome[0].upper()\n",
    "\n",
    "primeira_resto = primeiro_nome[1:]\n",
    "segunda_resto = segundo_nome[1:]\n",
    "terceira_resto = terceiro_nome[1:]\n",
    "\n",
    "nome_completo = primeira_letra + primeira_resto + \" \" + segunda_letra + segunda_resto + \" \" + terceira_letra + terceira_resto\n",
    "\n",
    "print(nome_completo)"
   ]
  },
  {
   "attachments": {},
   "cell_type": "markdown",
   "metadata": {},
   "source": [
    "# 22/3"
   ]
  },
  {
   "cell_type": "code",
   "execution_count": null,
   "metadata": {},
   "outputs": [],
   "source": [
    "# Exercício 1\n",
    "\n",
    "n1 = 10\n",
    "n2 = 5\n",
    "n3 =7\n",
    "\n",
    "media = (n1 + n2 + n3) / 3\n",
    "\n",
    "if media >= 7:\n",
    "    print(\"Aprovado\", media)\n",
    "elif 7 > media >= 4:\n",
    "    print(\"Exame\", media)\n",
    "else :\n",
    "    print(\"Reprovado\", média)"
   ]
  },
  {
   "cell_type": "code",
   "execution_count": null,
   "metadata": {},
   "outputs": [],
   "source": [
    "pip install tkinter"
   ]
  },
  {
   "cell_type": "code",
   "execution_count": null,
   "metadata": {},
   "outputs": [],
   "source": [
    "n1 = int(input(\"Insira sua primeira nota\"))\n",
    "n2 = int(input(\"Insira sua segunda nota\"))\n",
    "n3 = int(input(\"Insira sua terceira nota\"))\n",
    "artigo = input(\"Você publicou um artigo?\")\n",
    "media = (n1 + n2 + n3) / 3\n",
    "\n",
    "if (artigo == \"sim\") or (artigo == \"Sim\"):\n",
    "    print(\"Aprovado\", media)\n",
    "elif media >= 7:\n",
    "    print(\"Aprovado\", media)\n",
    "elif 7 > media >= 4:\n",
    "    print(\"Exame\", media)\n",
    "else :\n",
    "    print(\"Reprovado\", média)"
   ]
  },
  {
   "cell_type": "code",
   "execution_count": null,
   "metadata": {},
   "outputs": [],
   "source": [
    "velocidade = int(input(\"Qual a velocidade atual do seu carro?\"))\n",
    "multa = (velocidade - 80) * 5\n",
    "\n",
    "if velocidade > 80:\n",
    "    print(f\"O valor da sua multa é: R${multa},00\")\n",
    "else:\n",
    "    print(\"Você não possui nenhuma multa\")\n",
    "    "
   ]
  },
  {
   "cell_type": "code",
   "execution_count": null,
   "metadata": {},
   "outputs": [],
   "source": [
    "idade = int(input(\"Qual a sua idade?\"))\n",
    "\n",
    "if idade < 12:\n",
    "    print(\"Você é uma criança\")\n",
    "elif 12 <= idade < 18:\n",
    "    print(\"Você é uma adolescente\")\n",
    "elif 18 <= idade < 65:\n",
    "    print(\"Você é uma adulto\")\n",
    "else:\n",
    "    print(\"Você é uma idoso\")"
   ]
  },
  {
   "cell_type": "code",
   "execution_count": null,
   "metadata": {},
   "outputs": [],
   "source": [
    "numero = int(input(\"Insira um número\"))\n",
    "\n",
    "if numero % 2 == 0:\n",
    "    print(\"Seu número é par\")\n",
    "else:\n",
    "    print(\"Seu número é impar\")"
   ]
  },
  {
   "cell_type": "code",
   "execution_count": null,
   "metadata": {},
   "outputs": [],
   "source": [
    "n1 = int(input(\"Insira um número\"))\n",
    "n2 = int(input(\"Insira um número\"))\n",
    "n3 = int(input(\"Insira um número\"))\n",
    "print(\"Número 1:\", n1)\n",
    "print(\"Número 2:\", n2)\n",
    "print(\"Número 3:\", n3)\n",
    "\n",
    "if n1 > n2 > n3:\n",
    "    print(\"Número 1 é o maior número\")\n",
    "elif n1 < n2 > n3:\n",
    "    print(\"Número 2 é o maior número\")\n",
    "elif n1 < n2 < n3:\n",
    "    print(\"Número 3 é o maior número\")\n",
    "elif n1 == n2 > n3:\n",
    "    print(\"Número 1 e 2 são os maiores números\")\n",
    "elif n1 == n2 < n3:\n",
    "    print(\"Número 3 é o maior número\")\n",
    "elif n1 < n2 == n3:\n",
    "    print(\"Número 2 e 3 são os maiors números\")\n",
    "elif n1 > n2 == n3:\n",
    "    print(\"Número 1 é o maior número\")\n",
    "elif n1 == n3 > n2:\n",
    "    print(\"Número 1 e 3 são os maiors números\")\n",
    "elif n1 == n3 < n2:\n",
    "    print(\"Número 2 é o maior número\")\n",
    "else:\n",
    "    print(\"Todos os números são iguais\")"
   ]
  },
  {
   "cell_type": "code",
   "execution_count": null,
   "metadata": {},
   "outputs": [],
   "source": [
    "cor = input(\"Qual sua cor favorita?\")\n",
    "print(f\"A sua cor é {cor}\")"
   ]
  },
  {
   "cell_type": "code",
   "execution_count": null,
   "metadata": {},
   "outputs": [],
   "source": [
    "salario = int(input(\"Insira seu salário\"))\n",
    "\n",
    "if salario < 2000:\n",
    "    imposto = salario / 100 * 10\n",
    "    print(f\"Seu imposto a ser pago é de R${imposto}0\")\n",
    "    print(f\"Seu salário restante é {salario - imposto}0\")\n",
    "elif 2000 <= salario < 5000:\n",
    "    imposto = salario / 100 * 20\n",
    "    print(f\"Seu imposto a ser pago é de R${imposto}0\")\n",
    "    print(f\"Seu salário restante é {salario - imposto}0\")\n",
    "elif 5000 <= salario < 10000:\n",
    "    imposto = salario / 100 * 24\n",
    "    print(f\"Seu imposto a ser pago é de R${imposto}0\")\n",
    "    print(f\"Seu salário restante é {salario - imposto}0\")\n",
    "else:\n",
    "    imposto = salario / 100 * 30\n",
    "    print(f\"Seu imposto a ser pago é de R${imposto}0\")\n",
    "    print(f\"Seu salário restante é {salario - imposto}0\")"
   ]
  },
  {
   "cell_type": "code",
   "execution_count": null,
   "metadata": {},
   "outputs": [],
   "source": [
    "dia = str(input(\"Insira o dia da semana\"))\n",
    "programa = dia.upper()\n",
    "\n",
    "if (programa == \"SEGUNDA\") or (programa == \"TERÇA\") or (programa == \"QUARTA\") or (programa == \"QUINTA\") or (programa == \"SEXTA\"): \n",
    "    print(\"Dia de estudar ou trabalhar\")\n",
    "elif (programa == \"DOMINGO\"):\n",
    "    print(\"Dia de netflix, futebol ou cinema\")\n",
    "else: \n",
    "    print(\"Dia de balada\")"
   ]
  },
  {
   "cell_type": "code",
   "execution_count": null,
   "metadata": {},
   "outputs": [],
   "source": [
    "idade = int(input(\"Insira sua idade\"))\n",
    "eleitor = str(input(\"Seu título de eleitor está ativo?\"))\n",
    "titulo = eleitor.upper()\n",
    "\n",
    "if idade < 16:\n",
    "    print(\"Você não possui a idade mínima para votar\")\n",
    "elif (idade >= 18) & (titulo == \"SIM\"):\n",
    "    print(\"Você é obrigado a votar\")\n",
    "elif (idade >= 18) & (titulo != \"SIM\"):\n",
    "    eleitor = str(input(\"Seu título de eleitor está ativo?\"))\n",
    "    titulo = eleitor.upper()\n",
    "    print(\"Você deve retirar o seu título\")\n",
    "elif (18 <= idade >= 16) & (titulo == \"SIM\"):\n",
    "    eleitor = str(input(\"Seu título de eleitor está ativo?\"))\n",
    "    titulo = eleitor.upper()\n",
    "    print(\"Você pode votar, mas não é obrigado\")\n",
    "elif (16 <= idade <= 18) & (titulo != \"SIM\"):\n",
    "    eleitor = str(input(\"Seu título de eleitor está ativo?\"))\n",
    "    titulo = eleitor.upper()\n",
    "    print(\"Seu voto não é obrigatório, mas caso queira votar, deve tirar o seu título de eleitor\")\n",
    "else: \n",
    "    print(\"Você não possui título de eleitor\")\n",
    "\n",
    "    "
   ]
  },
  {
   "cell_type": "code",
   "execution_count": null,
   "metadata": {},
   "outputs": [],
   "source": [
    "lista = ['segunda', 'terça', 'quarta', 'quinta', 'sexta']\n",
    "\n",
    "dia = str(input(\"Digite o dia da semana\"))\n",
    "\n",
    "if dia in lista:\n",
    "    print(\"Dia está na lista\")"
   ]
  },
  {
   "attachments": {},
   "cell_type": "markdown",
   "metadata": {},
   "source": [
    "# 05/04"
   ]
  },
  {
   "cell_type": "code",
   "execution_count": null,
   "metadata": {},
   "outputs": [],
   "source": [
    "idade = int(input('Digite a sua idade'))\n",
    "total_compra = float(input('Insira o valor da sua conta'))\n",
    "\n",
    "if idade >= 65:\n",
    "    if total_compra >= 100:\n",
    "        print('Você terá 10% de desconto')\n",
    "    else:\n",
    "        print('O desconto só é válido para compras acima de R$100.00')\n",
    "else:\n",
    "    print('O desconto só está disponível para pessoas com 65 anos ou mais')"
   ]
  },
  {
   "cell_type": "code",
   "execution_count": null,
   "metadata": {},
   "outputs": [],
   "source": [
    "ano_fabricação = int(input('O ano de fabricação do seu carro'))\n",
    "marca_carro = input('Digite a marca do seu carro')\n",
    "marca = marca_carro.upper()\n",
    "\n",
    "if 2015 >= ano_fabricação >= 2013:\n",
    "    if marca == 'VOLVO':\n",
    "        print(f'Seu carro é da marca Volvo e ele foi fabricado em {ano_fabricação}')\n",
    "    else:\n",
    "        print('Seu carro não é Volvo')\n",
    "else:\n",
    "     print('Seu carro não foi fabricado entre 2013 e 2015')"
   ]
  },
  {
   "cell_type": "code",
   "execution_count": null,
   "metadata": {},
   "outputs": [],
   "source": [
    "hora = int(input('Qual a hora atual?'))\n",
    "temperatura = int(input('Qual a temperatura atual?'))\n",
    "\n",
    "if 6 <= hora < 12:\n",
    "    if temperatura > 20:\n",
    "        print('Bora caminhar')\n",
    "    else:\n",
    "        print('Bora tomar um cafézinho')\n",
    "elif 12 <= hora <= 18:\n",
    "    if temperatura > 25:\n",
    "        print('Hmmmm piquenique')\n",
    "    else:\n",
    "        print('Já pode ao mossar?')\n",
    "else:\n",
    "    print('Boa noite grupo')"
   ]
  },
  {
   "cell_type": "code",
   "execution_count": null,
   "metadata": {},
   "outputs": [],
   "source": [
    "pedido = int(input('Insira a idade do pedido'))\n",
    "categoria_cliente = input('Insira a sua categoria')\n",
    "cliente = categoria_cliente.upper()\n",
    "\n",
    "if pedido <= 7:\n",
    "    if cliente == 'VIP': \n",
    "        print('Seu pedido está sendo preparado para entrega expressa!')\n",
    "    else:\n",
    "        print('Seu pedido será entregue em breve')\n",
    "elif 7 < pedido <= 14:\n",
    "    if cliente == 'VIP':\n",
    "        print('Sue pedido está em processo de embalagem especial')\n",
    "    else:\n",
    "        print('Seu pedido está sendo preparado')\n",
    "else:\n",
    "    print('Seu pedido está a caminho')"
   ]
  },
  {
   "cell_type": "code",
   "execution_count": null,
   "metadata": {},
   "outputs": [],
   "source": [
    "usuario = input('Insira seu usuário')\n",
    "user = usuario.upper()\n",
    "\n",
    "if user == 'ADMIN':\n",
    "    senha = input('Insira sua senha')\n",
    "    password = senha.upper()\n",
    "    if password == 'SENHA':\n",
    "        codigo_acesso = input('Insira o código de verificação')\n",
    "        codigo = codigo_acesso.upper()\n",
    "        if codigo == 'CODIGO':\n",
    "            print('Acesso autorizado')\n",
    "        else:\n",
    "            print('Código de verificação incorreto')\n",
    "    else: \n",
    "        print('Senha incorreta')\n",
    "else:\n",
    "    print('Usuário incorreto')"
   ]
  },
  {
   "cell_type": "code",
   "execution_count": null,
   "metadata": {},
   "outputs": [],
   "source": [
    "temp_c = 0\n",
    "temp_f = float(input('Insira uma temperatura em farenheit')) \n",
    "\n",
    "while temp_f != 0:\n",
    "    temp_c = (9/5) * (temp_f - 32)\n",
    "    print(f'{temp_f}°F - {temp_c}°C')\n",
    "    temp_f = temp_f - 1"
   ]
  },
  {
   "cell_type": "code",
   "execution_count": null,
   "metadata": {},
   "outputs": [],
   "source": [
    "contador = 1\n",
    "limite = int(input('Insira um valor limite para o contador'))\n",
    "\n",
    "while limite > contador:\n",
    "    print(contador)\n",
    "    contador = contador + 1"
   ]
  },
  {
   "cell_type": "code",
   "execution_count": null,
   "metadata": {},
   "outputs": [],
   "source": [
    "contador1 = 0\n",
    "\n",
    "while contador1 <= 10:\n",
    "    print(contador1)\n",
    "    contador1 = contador1 + 1\n",
    "\n",
    "contador2 = 10\n",
    "\n",
    "while contador2 >= 0:\n",
    "    print(contador2)\n",
    "    contador2 = contador2 - 1"
   ]
  },
  {
   "cell_type": "code",
   "execution_count": null,
   "metadata": {},
   "outputs": [],
   "source": [
    "lista = [1, 4, 6]\n",
    "lista_letras = ['a', 'b', 'c', 'd']"
   ]
  },
  {
   "cell_type": "code",
   "execution_count": null,
   "metadata": {},
   "outputs": [],
   "source": [
    "print(len(lista))\n",
    "print(len(lista_letras))"
   ]
  },
  {
   "cell_type": "code",
   "execution_count": null,
   "metadata": {},
   "outputs": [],
   "source": [
    "frase = input('digite uma frase')\n",
    "\n",
    "contagem  = 0\n",
    "indice = 0\n",
    "\n",
    "while indice < len(frase):\n",
    "    if frase[indice] == 'a':\n",
    "        contagem += 1\n",
    "    indice += 1\n",
    "print(f'A letra \"a\" aparece {contagem} vezes na frase')"
   ]
  },
  {
   "cell_type": "code",
   "execution_count": null,
   "metadata": {},
   "outputs": [],
   "source": [
    "texto = str(input('Insira um texto'))\n",
    "rodrigo = 0\n",
    "\n",
    "\n",
    "print(texto[rodrigo-1])"
   ]
  },
  {
   "attachments": {},
   "cell_type": "markdown",
   "metadata": {},
   "source": [
    "# 12/04 Revisão"
   ]
  },
  {
   "cell_type": "code",
   "execution_count": null,
   "metadata": {},
   "outputs": [],
   "source": [
    "media = (10 * (40/100)) + (10 * (60/100))\n",
    "\n",
    "print(media)"
   ]
  },
  {
   "cell_type": "code",
   "execution_count": null,
   "metadata": {},
   "outputs": [],
   "source": [
    "nota1 = int(input('Insira a nota 1'))\n",
    "peso1 = int(input('Insira o peso da nota 1'))\n",
    "nota2 = int(input('Insira a nota 2'))\n",
    "peso2 = int(input('Insira o peso da nota 2'))\n",
    "nota3 = int(input('Insira a nota 3'))\n",
    "peso3 = int(input('Insira o peso da nota 3'))\n",
    "nota4 = int(input('Insira a nota 4'))\n",
    "peso4 = int(input('Insira o peso da nota 4'))\n",
    "nota5 = int(input('Insira a nota 5'))\n",
    "peso5 = int(input('Insira o peso da nota 5'))\n",
    "\n",
    "somaPesos = peso1 + peso2 + peso3 + peso4 + peso5\n",
    "\n",
    "notaFinal = ((nota1 * peso1) + (nota2 * peso2) + (nota3 * peso3) + (nota4 * peso4) + (nota5 * peso5)) / somaPesos\n",
    "\n",
    "print(notaFinal)"
   ]
  },
  {
   "cell_type": "code",
   "execution_count": null,
   "metadata": {},
   "outputs": [],
   "source": [
    "usuario = str(input('Insira seu usuário'))\n",
    "user = usuario.upper()\n",
    "\n",
    "if user == 'ADMIN':\n",
    "    senha = str(input('Insira sua senha'))\n",
    "    password = senha.upper()\n",
    "    if password == 'SENHA':\n",
    "        codigo = str(input('Insira o código de segurança'))\n",
    "        code = codigo.upper()\n",
    "        if code == 'CODE':\n",
    "            print('Acesso liberado')\n",
    "        else:\n",
    "            print('Código de segurança incorreto')\n",
    "    else:\n",
    "        print('Senha incorreta')\n",
    "else:\n",
    "    print('Usuário incorreto')"
   ]
  },
  {
   "cell_type": "code",
   "execution_count": null,
   "metadata": {},
   "outputs": [],
   "source": [
    "salario = float(input('Insira seu salário'))\n",
    "salarioAnual = salario * 12\n",
    "if salario <= 1412:\n",
    "    aliquota = (salarioAnual * 7.5) / 100\n",
    "    salarioFinal = salarioAnual - aliquota\n",
    "    print(aliquota)\n",
    "    print(salarioFinal)\n",
    "elif 1412 < salario <= 2666.68:\n",
    "    aliquota = (salarioAnual * 9) / 100\n",
    "    salarioFinal = salarioAnual - aliquota\n",
    "    print(aliquota)\n",
    "    print(salarioFinal)\n",
    "elif 2666.68 < salario <= 4000.03:\n",
    "    aliquota = (salarioAnual * 12) / 100\n",
    "    salarioFinal = salarioAnual - aliquota\n",
    "    print(aliquota)\n",
    "    print(salarioFinal)\n",
    "elif 4000.03 < salario <= 7786.02:\n",
    "    aliquota = (salarioAnual * 14) / 100\n",
    "    salarioFinal = salarioAnual - aliquota\n",
    "    print(aliquota)\n",
    "    print(salarioFinal)\n",
    "else: \n",
    "    aliquota = (salarioAnual * 27.5) / 100\n",
    "    salarioFinal = salarioAnual - aliquota\n",
    "    print(aliquota)\n",
    "    print(salarioFinal)"
   ]
  },
  {
   "cell_type": "code",
   "execution_count": null,
   "metadata": {},
   "outputs": [],
   "source": [
    "meses = int(input('Insira quantos meses você está na empresa'))\n",
    "\n",
    "if meses >= 0:\n",
    "    print('Você tem direito à exames de sangue')\n",
    "    if meses >= 6:\n",
    "        print('Você tem direito à radiografia')\n",
    "        if meses >= 12:\n",
    "            print('Você tem direito à exames complexos')\n",
    "            permissao = input('Você tem permissão para os exames complexos')\n",
    "            permission = permissao.upper()\n",
    "            if permission == 'SIM':\n",
    "                    print('Você tem acesso ao exame')\n",
    "            else:\n",
    "                 print('Você precisa de permissão para o exame')"
   ]
  },
  {
   "attachments": {},
   "cell_type": "markdown",
   "metadata": {},
   "source": [
    "# Checkpoint"
   ]
  },
  {
   "cell_type": "code",
   "execution_count": null,
   "metadata": {},
   "outputs": [],
   "source": [
    "numero = input('Escolha um número para ser o número secreto')\n",
    "tentativas = 3\n",
    "\n",
    "if tentativas == 3:\n",
    "    chute = input('Tente descobrir o número')\n",
    "    if numero == chute:\n",
    "        print(f'Você acertou o número secreto que era {numero}!')\n",
    "    else:\n",
    "        print('Você errou, tente novamente')\n",
    "        tentativas = tentativas - 1\n",
    "        print(f'Você tem {tentativas} restantes')\n",
    "        chute = input('Tente descobrir o número')\n",
    "        if numero == chute:\n",
    "            print(f'Você acertou o número secreto que era {numero}!')\n",
    "        else:\n",
    "            print('Você errou, tente novamente')\n",
    "            tentativas = tentativas - 1\n",
    "            print(f'Você tem {tentativas} restantes')\n",
    "            chute = input('Tente descobrir o número')\n",
    "            if numero == chute:\n",
    "                print(f'Você acertou o número secreto que era {numero}!')\n",
    "            else:\n",
    "                print('Acabaram suas tentativas, você perdeu')\n",
    "        "
   ]
  },
  {
   "cell_type": "code",
   "execution_count": null,
   "metadata": {},
   "outputs": [],
   "source": [
    "produto1 = int(input('Insira a quantidade do produto 1'))\n",
    "valor1 = float(input('Insira o valor do produto 1'))\n",
    "produto2 = int(input('Insira a quantidade do produto 2'))\n",
    "valor2 = float(input('Insira o valor do produto 2'))\n",
    "produto3 = int(input('Insira a quantidade do produto 3'))\n",
    "valor3 = float(input('Insira o valor do produto 3'))\n",
    "produto4 = int(input('Insira a quantidade do produto 4'))\n",
    "valor4 = float(input('Insira o valor do produto 4'))\n",
    "\n",
    "total1 = produto1 * valor1\n",
    "total2 = produto2 * valor2\n",
    "total3 = produto3 * valor3\n",
    "total4 = produto4 * valor4\n",
    "\n",
    "if total1 > total2 > total3 > total4:\n",
    "    print(f'R${total4},00')\n",
    "    print(f'R${total3},00')\n",
    "    print(f'R${total2},00')\n",
    "    print(f'R${total1},00')\n",
    "elif total2 > total1 > total3 > total4:\n",
    "    print(f'R${total4},00')\n",
    "    print(f'R${total3},00')\n",
    "    print(f'R${total1},00')\n",
    "    print(f'R${total2},00')\n",
    "elif total2 > total3 > total1 > total4:\n",
    "    print(f'R${total4},00')\n",
    "    print(f'R${total1},00')\n",
    "    print(f'R${total3},00')\n",
    "    print(f'R${total2},00')\n",
    "elif total2 > total3 > total4 > total1:\n",
    "    print(f'R${total1},00')\n",
    "    print(f'R${total4},00')\n",
    "    print(f'R${total3},00')\n",
    "    print(f'R${total2},00')\n",
    "elif total1 > total3 > total2 > total4:\n",
    "    print(f'R${total4},00')\n",
    "    print(f'R${total2},00')\n",
    "    print(f'R${total3},00')\n",
    "    print(f'R${total1},00')\n",
    "elif total1 > total3 > total4 > total2:\n",
    "    print(f'R${total2},00')\n",
    "    print(f'R${total4},00')\n",
    "    print(f'R${total3},00')\n",
    "    print(f'R${total1},00')\n",
    "elif total3 > total1 > total2 > total4:\n",
    "    print(f'R${total4},00')\n",
    "    print(f'R${total2},00')\n",
    "    print(f'R${total3},00')\n",
    "    print(f'R${total1},00')\n",
    "elif total1 > total2 > total4 > total3:\n",
    "    print(f'R${total1},00')\n",
    "    print(f'R${total2},00')\n",
    "    print(f'R${total4},00')\n",
    "    print(f'R${total3},00')\n",
    "elif total4 > total1 > total2 > total3:\n",
    "    print(f'R${total4},00')\n",
    "    print(f'R${total1},00')\n",
    "    print(f'R${total2},00')\n",
    "    print(f'R${total3},00')\n",
    "elif total1 > total4 > total2 > total3:\n",
    "    print(f'R${total3},00')\n",
    "    print(f'R${total2},00')\n",
    "    print(f'R${total4},00')\n",
    "    print(f'R${total1},00')\n",
    "elif total1 > total2 > total4 > total3:\n",
    "    print(f'R${total3},00')\n",
    "    print(f'R${total4},00')\n",
    "    print(f'R${total2},00')\n",
    "    print(f'R${total1},00')\n",
    "\n",
    "\n",
    "\n",
    "\n",
    "\n",
    "\n",
    "\n"
   ]
  },
  {
   "cell_type": "code",
   "execution_count": null,
   "metadata": {},
   "outputs": [],
   "source": [
    "usuario = str(input(\"Insira o usuário\"))\n",
    "senha = input(\"Insira a senha\")\n",
    "codigo = input(\"Insira o código\")\n",
    "user = usuario.upper()\n",
    "password = senha.upper()\n",
    "code = codigo.upper()\n",
    "erros = 0\n",
    "\n",
    "if user == \"ADMIN\": \n",
    "    erros += 1  \n",
    "    if password == \"SENHA\": \n",
    "        erros += 1      \n",
    "        if code == \"CODIGO\":\n",
    "            erros += 1\n",
    "            print('Acesso concedido!')\n",
    "        else:\n",
    "            print(\"Código incorreto\")    \n",
    "    else:\n",
    "        print(\"Senha Incorreta\")\n",
    "else:\n",
    "    print(\"Usuário incorreto!\")\n",
    "\n",
    "erros = 3 - tentativas\n",
    "if erros >= 2:\n",
    "    print(\"Acesso bloqueado\")"
   ]
  },
  {
   "cell_type": "code",
   "execution_count": null,
   "metadata": {},
   "outputs": [],
   "source": [
    "moeda = str(input('Insira a moeda que deseja converter'))\n",
    "quantidade = float(input(f'Insira a quantidade de {moeda} que deseja converter'))\n",
    "conversao = str(input('Insira para qual moeda você que converter(Euro, Real, Dolar ou Iene)'))\n",
    "coin = moeda.upper()\n",
    "cambio = conversao.upper()\n",
    "\n",
    "if coin == 'EURO' and cambio == 'REAL':\n",
    "    print(f'{quantidade} EUR equivale à R${quantidade * 5.46}')\n",
    "elif coin == 'EURO' and cambio == 'DOLAR':\n",
    "    print(f'{quantidade} EUR equivale à ${quantidade * 1.07}')\n",
    "elif coin == 'EURO' and cambio == 'IENE':\n",
    "    print(f'{quantidade} EUR equivale à {quantidade * 164.57} Iene')\n",
    "elif coin == 'DOLAR' and cambio == 'EURO':\n",
    "    print(f'${quantidade},00 equivale à {quantidade * 0.94} EUR')\n",
    "elif coin == 'DOLAR' and cambio == 'REAL':\n",
    "    print(f'${quantidade},00  equivale à R${quantidade * 5.12}')\n",
    "elif coin == 'DOLAR' and cambio == 'IENE':\n",
    "    print(f'${quantidade},00 equivale à {quantidade * 153.28} Iene')\n",
    "elif coin == 'REAL' and cambio == 'DOLAR':\n",
    "    print(f'R${quantidade},00  equivale à ${quantidade * 0.20}')\n",
    "elif coin == 'REAL' and cambio == 'EURO':\n",
    "    print(f'R${quantidade},00  equivale à {quantidade * 0.18} EUR')\n",
    "elif coin == 'REAL' and cambio == 'IENE':\n",
    "    print(f'R${quantidade},00  equivale à {quantidade * 29.95} Iene')\n",
    "elif coin == 'IENE' and cambio == 'EURO':\n",
    "    print(f'{quantidade} Iene  equivale à {quantidade * 0.0061} EUR')\n",
    "elif coin == 'IENE' and cambio == 'DOLAR':\n",
    "    print(f'{quantidade} Iene  equivale à ${quantidade * 0.0065}')\n",
    "elif coin == 'IENE' and cambio == 'REAL':\n",
    "    print(f'{quantidade} Iene equivale à R${quantidade * 0.033}')"
   ]
  },
  {
   "cell_type": "code",
   "execution_count": null,
   "metadata": {},
   "outputs": [],
   "source": [
    "venda1 = int(input('Insira a venda 1'))\n",
    "peso1 = int(input('Insira o peso da venda 1'))\n",
    "venda2 = int(input('Insira a venda 2'))\n",
    "peso2 = int(input('Insira o peso da venda 2'))\n",
    "venda3 = int(input('Insira a venda 3'))\n",
    "peso3 = int(input('Insira o peso da venda 3'))\n",
    "venda4 = int(input('Insira a venda 4'))\n",
    "peso4 = int(input('Insira o peso da venda 4'))\n",
    "\n",
    "media = ((venda1 * peso1) + (venda2 * peso2) + (venda3 * peso3) + (venda4 * peso4))/ (peso1 + peso2 + peso3 + peso4)\n",
    "print(media)\n",
    "print(f'Peso da nota 1 é {peso1}')\n",
    "print(f'Peso da nota 2 é {peso2}')\n",
    "print(f'Peso da nota 3 é {peso3}')\n",
    "print(f'Peso da nota 4 é {peso4}')"
   ]
  },
  {
   "cell_type": "code",
   "execution_count": null,
   "metadata": {},
   "outputs": [],
   "source": [
    "nome = input('Insira o seu nome')\n",
    "nacionalidade = input('Insira sua nacionalidade')\n",
    "numeroPassaporte = input('Insira o número do passaporte')\n",
    "nacionality = nacionalidade.upper()\n",
    "\n",
    "if nacionality == 'BRASILEIRO':\n",
    "    print('Boas-vindas')\n",
    "    print('Não é necessário visto')\n",
    "else:\n",
    "    print('Verifique os seus requisitos de visto')"
   ]
  },
  {
   "attachments": {},
   "cell_type": "markdown",
   "metadata": {},
   "source": [
    "# 19/04"
   ]
  },
  {
   "cell_type": "code",
   "execution_count": null,
   "metadata": {},
   "outputs": [],
   "source": [
    "for i in range(1, 10):\n",
    "    print(i)"
   ]
  },
  {
   "cell_type": "code",
   "execution_count": null,
   "metadata": {},
   "outputs": [],
   "source": [
    "soma = 0\n",
    "\n",
    "#+= acumuka os valores\n",
    "\n",
    "for i in range(1,4):\n",
    "    soma += i\n",
    "    print('A soma dos númers de 1 a 3 é', soma)"
   ]
  },
  {
   "cell_type": "code",
   "execution_count": null,
   "metadata": {},
   "outputs": [],
   "source": [
    "sub = 0\n",
    "\n",
    "for i in range(1, 4):\n",
    "    sub -= i\n",
    "    print(sub)\n"
   ]
  },
  {
   "cell_type": "code",
   "execution_count": null,
   "metadata": {},
   "outputs": [],
   "source": [
    "mult = 1\n",
    "\n",
    "for i in range(1, 4):\n",
    "    mult *= i\n",
    "    print(mult)"
   ]
  },
  {
   "cell_type": "code",
   "execution_count": null,
   "metadata": {},
   "outputs": [],
   "source": [
    "#terceiro número: intervalo\n",
    "for i in range(1, 11, 2): \n",
    "    print(i)"
   ]
  },
  {
   "cell_type": "code",
   "execution_count": null,
   "metadata": {},
   "outputs": [],
   "source": [
    "for i in range(1, 10):\n",
    "    print(i)\n",
    "    if i == 5:\n",
    "        break"
   ]
  },
  {
   "cell_type": "code",
   "execution_count": null,
   "metadata": {},
   "outputs": [],
   "source": [
    "lista_car = ['a', 'b', 'c', 'd', 'e']\n",
    "\n",
    "for k in lista_car:\n",
    "    print(k)\n",
    "    if k == 'c':\n",
    "        break"
   ]
  },
  {
   "cell_type": "code",
   "execution_count": null,
   "metadata": {},
   "outputs": [],
   "source": [
    "for k in range(1, 10):\n",
    "    if k %2 == 0:\n",
    "        continue\n",
    "    print(k)"
   ]
  },
  {
   "cell_type": "code",
   "execution_count": null,
   "metadata": {},
   "outputs": [],
   "source": [
    "lista_car = ['a', 'b', 'c', 'd', 'e']\n",
    "\n",
    "for k in lista_car:\n",
    "    print(k)\n",
    "    if k == 'c':\n",
    "        continue\n",
    "    print(k)"
   ]
  },
  {
   "cell_type": "code",
   "execution_count": null,
   "metadata": {},
   "outputs": [],
   "source": [
    "palavra = 'hoje é dia de happy hour'\n",
    "\n",
    "for k in palavra:\n",
    "    print(k)"
   ]
  },
  {
   "cell_type": "code",
   "execution_count": null,
   "metadata": {},
   "outputs": [],
   "source": [
    "palavra = 'hoje é dia de happy hour'\n",
    "\n",
    "for k in palavra:\n",
    "    if k == 'a':\n",
    "        break\n",
    "    print(k)"
   ]
  },
  {
   "cell_type": "code",
   "execution_count": null,
   "metadata": {},
   "outputs": [],
   "source": [
    "palavra = 'hoje é dia de happy hour'\n",
    "vogais = ['a', 'e', 'i', 'o', 'u']\n",
    "\n",
    "for k in palavra:\n",
    "    if k in vogais:\n",
    "        continue\n",
    "    print(k)"
   ]
  },
  {
   "cell_type": "code",
   "execution_count": null,
   "metadata": {},
   "outputs": [],
   "source": [
    "# append\n",
    "\n",
    "vogais = ['a', 'b', 'c', 'd']\n",
    "\n",
    "vogais.append('e')\n",
    "\n",
    "texto = ' '.join(vogais)\n",
    "texto"
   ]
  },
  {
   "cell_type": "code",
   "execution_count": null,
   "metadata": {},
   "outputs": [],
   "source": [
    "texto = str(input('Escreva o texto')).split()\n",
    "palavra_escolhida = str(input('Escreva a palavra que você quer que o texto termine'))\n",
    "lista = []\n",
    "\n",
    "for k in texto:\n",
    "    if k == palavra_escolhida:\n",
    "        break\n",
    "    lista.append(k)\n",
    "    resposta = ' '.join(lista)\n",
    "print(resposta)"
   ]
  },
  {
   "cell_type": "code",
   "execution_count": null,
   "metadata": {},
   "outputs": [],
   "source": [
    "for i in range(3):\n",
    "    nota1 = float(input('digite a primeira nota'))\n",
    "    nota2 = float(input('digite a segunda nota'))\n",
    "\n",
    "    media = (nota1 + nota2) / 2\n",
    "    print(media)"
   ]
  },
  {
   "cell_type": "code",
   "execution_count": null,
   "metadata": {},
   "outputs": [],
   "source": [
    "final = int(input('Insira quantas pessoas vão ser cadastradas')) + 1\n",
    "\n",
    "for i in range(1, final):\n",
    "    nome = input('Insira o seu nome:')\n",
    "    sobrenome = input('Insira o seu sobrenome:')\n",
    "    idade = input('Insira o sua idade:')\n",
    "    cpf = input('Insira o seu CPF:')\n",
    "    rg = input('Insira o seu RG:')\n",
    "\n",
    "    print(f'{nome} {sobrenome}, {idade} anos, CPF:{cpf}, RG:{rg}')"
   ]
  },
  {
   "cell_type": "code",
   "execution_count": null,
   "metadata": {},
   "outputs": [],
   "source": [
    "lista1 = [10, 15, 30]\n",
    "lista2 = [5, 10, 20]\n",
    "\n",
    "for i in range(len(lista1)):\n",
    "    somar = lista1[i] + lista2[i]\n",
    "    print(somar)"
   ]
  },
  {
   "attachments": {},
   "cell_type": "markdown",
   "metadata": {},
   "source": [
    "# 26/04\n"
   ]
  },
  {
   "cell_type": "code",
   "execution_count": null,
   "metadata": {},
   "outputs": [],
   "source": [
    "lista_nomes = []\n",
    "nome = input('Insira um nome').upper()\n",
    "lista_nomes.append(nome)\n",
    "k = 0\n",
    "while k < len(lista_nomes):\n",
    "    if nome == 'PARAR':\n",
    "        lista_nomes.pop(k)\n",
    "        break\n",
    "    else:\n",
    "        nome = input('Insira um nome').upper()\n",
    "        lista_nomes.append(nome)\n",
    "        k += 1\n",
    "print(lista_nomes)"
   ]
  },
  {
   "cell_type": "code",
   "execution_count": null,
   "metadata": {},
   "outputs": [],
   "source": [
    "numero = int(input('Insira um número'))\n",
    "\n",
    "for k in range(1, 11):\n",
    "    print(f'{numero} * {k} = {numero*k}')"
   ]
  },
  {
   "cell_type": "code",
   "execution_count": null,
   "metadata": {},
   "outputs": [],
   "source": [
    "resultados = []\n",
    "numero = int(input('Insira um número'))\n",
    "\n",
    "for k in range(1, 11):\n",
    "    resultados.append(k*numero)\n",
    "    print(f'{numero} * {k} = {resultados[k-1]}')"
   ]
  },
  {
   "cell_type": "code",
   "execution_count": null,
   "metadata": {},
   "outputs": [],
   "source": [
    "numero = int(input('Insira um número'))\n",
    "operação = input('Insira o simbolo da operação(+, -, *, /)')\n",
    "\n",
    "if operação == '+':\n",
    "    for k in range(1, 11):\n",
    "        print(f'{numero} + {k} = {numero + k}')\n",
    "elif  operação == '-':\n",
    "    for k in range(1, 11):\n",
    "        print(f'{numero} + {k} = {numero - k}')\n",
    "elif operação == '*':\n",
    "    for k in range(1, 11):\n",
    "        print(f'{numero} * {k} = {numero * k}')\n",
    "else:\n",
    "    for k in range(1, 11):\n",
    "        print(f'{numero} / {k} = {numero / k}')"
   ]
  },
  {
   "cell_type": "code",
   "execution_count": null,
   "metadata": {},
   "outputs": [],
   "source": [
    "numero = int(input('Insira um número'))\n",
    "\n",
    "lista_mult = []\n",
    "lista_div = []\n",
    "lista_soma = []\n",
    "lista_sub = []\n",
    "\n",
    "for i in range(1, 11):\n",
    "    for k in range(1, 11):\n",
    "        lista_mult.append(numero*k)\n",
    "        lista_div.append(numero/k)\n",
    "        lista_soma.append(numero+k)\n",
    "        lista_sub.append(numero-k)\n",
    "\n",
    "lista_mult\n",
    "lista_div\n",
    "lista_soma\n",
    "lista_sub\n",
    "    "
   ]
  },
  {
   "cell_type": "code",
   "execution_count": null,
   "metadata": {},
   "outputs": [],
   "source": [
    "for i in range(1, 5):\n",
    "    for k in range(1, 5):\n",
    "        if i == k:\n",
    "            break\n",
    "        print(i, ' *', k, ' =', i*k)"
   ]
  },
  {
   "cell_type": "code",
   "execution_count": null,
   "metadata": {},
   "outputs": [],
   "source": [
    "for i in 'abc':\n",
    "    for k in '123':\n",
    "        print(i+k)"
   ]
  },
  {
   "cell_type": "code",
   "execution_count": null,
   "metadata": {},
   "outputs": [],
   "source": [
    "lista_combinacoes = []\n",
    "\n",
    "letras = input('Insira as letras que deseja usar')\n",
    "numeros = input('Insira os números que deseja usar')\n",
    "for i in letras:\n",
    "    for k in numeros:\n",
    "        combinacao = i + k\n",
    "        print(combinacao)\n",
    "        lista_combinacoes.append(combinacao)\n",
    "\n",
    "print(f'o número de combinações totais é {len(lista_combinacoes)}')"
   ]
  },
  {
   "attachments": {},
   "cell_type": "markdown",
   "metadata": {},
   "source": [
    "# 03/05"
   ]
  },
  {
   "cell_type": "code",
   "execution_count": null,
   "metadata": {},
   "outputs": [],
   "source": [
    "i = 0\n",
    "\n",
    "while i <= 3:\n",
    "    print(i)\n",
    "    i += 1\n",
    "    "
   ]
  },
  {
   "cell_type": "code",
   "execution_count": null,
   "metadata": {},
   "outputs": [],
   "source": [
    "lista_valores = []\n",
    "\n",
    "while len(lista_valores) <= 4:\n",
    "    valor = int(input('Insira um valor'))\n",
    "    lista_valores.append(valor)\n",
    "\n",
    "print(lista_valores)\n"
   ]
  },
  {
   "cell_type": "code",
   "execution_count": null,
   "metadata": {},
   "outputs": [],
   "source": [
    "lista_valores = []\n",
    "while len(lista_valores) <= 4:\n",
    "    valor = int(input('Insira um valor'))\n",
    "    lista_valores.append(valor)\n",
    "\n",
    "print(lista_valores)\n",
    "print(sum(lista_valores))"
   ]
  },
  {
   "cell_type": "code",
   "execution_count": null,
   "metadata": {},
   "outputs": [],
   "source": [
    "lista_valores = []\n",
    "while len(lista_valores) <= 4:\n",
    "    valor = int(input('Insira um valor'))\n",
    "    lista_valores.append(valor)\n",
    "\n",
    "soma = sum(lista_valores)\n",
    "media = soma / len(lista_valores)\n",
    "print(lista_valores)\n",
    "print(soma)\n",
    "print(media)"
   ]
  },
  {
   "cell_type": "code",
   "execution_count": null,
   "metadata": {},
   "outputs": [],
   "source": [
    "chances = 2\n",
    "\n",
    "while chances > 0:\n",
    "    email = input('Insira seu email')\n",
    "    senha = input('Insira sua senha')\n",
    "    if email != 'leo' or senha != '123456':\n",
    "        print('dados incorretos')\n",
    "        chances -= 1\n",
    "    else:\n",
    "        print('Acesso concebido')\n",
    "        break"
   ]
  },
  {
   "cell_type": "code",
   "execution_count": null,
   "metadata": {},
   "outputs": [],
   "source": [
    "contador = 5\n",
    "pessoa1 = []\n",
    "pessoa2 = []\n",
    "pessoa3 = []\n",
    "pessoa4 = []\n",
    "pessoa5 = []\n",
    "\n",
    "while contador > 0:\n",
    "    nome = input(f'Insira seu nome da pessoa {contador}')\n",
    "    rg = input('Insira seu RG')\n",
    "    cep = input('Insira seu cep')\n",
    "    if contador == 5:\n",
    "        pessoa1.append(nome)\n",
    "        pessoa1.append(rg)\n",
    "        pessoa1.append(cep)\n",
    "    elif contador == 4:\n",
    "        pessoa2.append(nome)\n",
    "        pessoa2.append(rg)\n",
    "        pessoa2.append(cep)\n",
    "    elif contador == 3:\n",
    "        pessoa3.append(nome)\n",
    "        pessoa3.append(rg)\n",
    "        pessoa3.append(cep)\n",
    "    elif contador == 2:\n",
    "        pessoa4.append(nome)\n",
    "        pessoa4.append(rg)\n",
    "        pessoa4.append(cep)\n",
    "    else:\n",
    "        pessoa5.append(nome)\n",
    "        pessoa5.append(rg)\n",
    "        pessoa5.append(cep)\n",
    "    contador -= 1\n",
    "\n",
    "print(pessoa1)\n",
    "print(pessoa2)\n",
    "print(pessoa3)\n",
    "print(pessoa4)\n",
    "print(pessoa5)"
   ]
  },
  {
   "cell_type": "code",
   "execution_count": null,
   "metadata": {},
   "outputs": [],
   "source": [
    "contador = 5\n",
    "pessoa1 = []\n",
    "pessoa2 = []\n",
    "pessoa3 = []\n",
    "pessoa4 = []\n",
    "pessoa5 = []\n",
    "\n",
    "while contador > 0:\n",
    "    nome = input(f'Insira seu nome da pessoa {contador}')\n",
    "    rg = input('Insira seu RG')\n",
    "    cep = input('Insira seu cep')\n",
    "    if contador == 5:\n",
    "        pessoa1.append(nome)\n",
    "        pessoa1.append(rg)\n",
    "        pessoa1.append(cep)\n",
    "    elif contador == 4:\n",
    "        pessoa2.append(nome)\n",
    "        pessoa2.append(rg)\n",
    "        pessoa2.append(cep)\n",
    "    elif contador == 3:\n",
    "        pessoa3.append(nome)\n",
    "        pessoa3.append(rg)\n",
    "        pessoa3.append(cep)\n",
    "    elif contador == 2:\n",
    "        pessoa4.append(nome)\n",
    "        pessoa4.append(rg)\n",
    "        pessoa4.append(cep)\n",
    "    else:\n",
    "        pessoa5.append(nome)\n",
    "        pessoa5.append(rg)\n",
    "        pessoa5.append(cep)\n",
    "    contador -= 1\n",
    "\n",
    "\n"
   ]
  },
  {
   "attachments": {},
   "cell_type": "markdown",
   "metadata": {},
   "source": [
    "# CHECKPOINT 2\n"
   ]
  },
  {
   "cell_type": "code",
   "execution_count": null,
   "metadata": {},
   "outputs": [],
   "source": [
    "massas = []\n",
    "aceleracao = 300000\n",
    "forca = 500\n",
    "\n",
    "for i in range(1, 6):\n",
    "    massas.append(forca / aceleracao)\n",
    "    forca += 500\n",
    "    print(f'A massa da partícula {i} é {massas[i - 1]}')\n"
   ]
  },
  {
   "cell_type": "code",
   "execution_count": null,
   "metadata": {},
   "outputs": [],
   "source": [
    "nomes = []\n",
    "cpfs = []\n",
    "contador = 0\n",
    "\n",
    "while contador < 4:\n",
    "    nome = input(\"Digite o nome: \")\n",
    "    cpf = input(\"Digite o CPF: \")\n",
    "    nomes.append(nome)\n",
    "    cpfs.append(cpf)\n",
    "    contador += 1\n",
    "    \n",
    "print(\"Nomes digitados:\", nomes)\n",
    "print(\"CPFs digitados:\", cpfs)\n"
   ]
  },
  {
   "cell_type": "code",
   "execution_count": null,
   "metadata": {},
   "outputs": [],
   "source": [
    "salarios = [1800, 2500, 3200, 4200, 5000]\n",
    "salario_10 = []\n",
    "salario_20 = []\n",
    "salario_30 = []\n",
    "\n",
    "for salario in salarios:\n",
    "    if salario <= 2000:\n",
    "        salario_liquido = salario - (salario * 0.1)\n",
    "        salario_10.append(salario_liquido)\n",
    "    elif salario <= 4000:\n",
    "        salario_liquido = salario - (salario * 0.2)\n",
    "        salario_20.append(salario_liquido)\n",
    "    else:\n",
    "        salario_liquido = salario - (salario * 0.3)\n",
    "        salario_30.append(salario_liquido)\n",
    "\n",
    "print(\"Salários líquidos com desconto de 10%:\", salario_10)\n",
    "print(\"Salários líquidos com desconto de 20%:\", salario_20)\n",
    "print(\"Salários líquidos com desconto de 30%:\", salario_30)\n"
   ]
  },
  {
   "cell_type": "code",
   "execution_count": null,
   "metadata": {},
   "outputs": [],
   "source": [
    "usuario1 = []\n",
    "usuario2 = []\n",
    "for k in range(1, 6):\n",
    "    jogo = int(input(f'Insira o valor do jogo número {k} comprado pelo usuário 1'))\n",
    "    usuario1.append(jogo)\n",
    "for i in range(1, 6):\n",
    "    jogo = int(input(f'Insira o valor do jogo número {i} comprado pelo usuário 2'))\n",
    "    usuario2.append(jogo)\n",
    "\n",
    "media1 = sum(usuario1) / 5\n",
    "media2 = sum(usuario2) / 5\n",
    "\n",
    "print(f'Os preços dos jogos do usuário 1 foram:{usuario1}')\n",
    "print(f'A média de preços do jogador 1 foi: {media1}')\n",
    "print(f'Os preços dos jogos do usuário 1 foram:{usuario2}')\n",
    "print(f'A média de preços do jogador 1 foi: {media2}')"
   ]
  },
  {
   "cell_type": "code",
   "execution_count": null,
   "metadata": {},
   "outputs": [],
   "source": [
    "lista_produtos = ['notebook', 'ssd', 'mouse', 'teclado', 'monitor']\n",
    "\n",
    "produtos_comprados = []\n",
    "contador = 0\n",
    "while contador < 5:\n",
    "    produto = input(f\"Digite o produto {contador + 1}: \")\n",
    "    produtos_comprados.append(produto)\n",
    "    contador += 1\n",
    "    if produto not in lista_produtos:\n",
    "        print(f'{produto} não está disponível')\n",
    "        contador -= 1\n",
    "\n",
    "quantidade_notebook = 0\n",
    "quantidade_ssd = 0\n",
    "quantidade_mouse = 0\n",
    "quantidade_teclado = 0\n",
    "quantidade_monitor = 0\n",
    "\n",
    "for produto in produtos_comprados:\n",
    "    if produto == 'notebook':\n",
    "        quantidade_notebook += 1\n",
    "    elif produto == 'ssd':\n",
    "        quantidade_ssd += 1\n",
    "    elif produto == 'mouse':\n",
    "        quantidade_mouse += 1\n",
    "    elif produto == 'teclado':\n",
    "        quantidade_teclado += 1\n",
    "    elif produto == 'monitor':\n",
    "        quantidade_monitor += 1\n",
    "\n",
    "print(\"\\nQuantidade de produtos comprados:\")\n",
    "print(\"Notebook:\", quantidade_notebook)\n",
    "print(\"SSD:\", quantidade_ssd)\n",
    "print(\"Mouse:\", quantidade_mouse)\n",
    "print(\"Teclado:\", quantidade_teclado)\n",
    "print(\"Monitor:\", quantidade_monitor)"
   ]
  },
  {
   "cell_type": "markdown",
   "metadata": {},
   "source": []
  },
  {
   "attachments": {},
   "cell_type": "markdown",
   "metadata": {},
   "source": [
    "# 10/05\n"
   ]
  },
  {
   "cell_type": "code",
   "execution_count": null,
   "metadata": {},
   "outputs": [],
   "source": [
    "def soma(x, y):\n",
    "    \"\"\"Função soma\"\"\"\n",
    "    resultado = x + y\n",
    "    return resultado"
   ]
  },
  {
   "cell_type": "code",
   "execution_count": null,
   "metadata": {},
   "outputs": [],
   "source": [
    "print(soma(1, 2))"
   ]
  },
  {
   "cell_type": "code",
   "execution_count": null,
   "metadata": {},
   "outputs": [],
   "source": [
    "def soma(x, y):\n",
    "    \"\"\"Função soma\"\"\"\n",
    "    resultado = x + y\n",
    "    return resultado\n",
    "def subtracao(x, y):\n",
    "    \"\"\"Função subtração\"\"\"\n",
    "    resultado = x - y\n",
    "    return resultado\n",
    "def multiplicacao(x, y):\n",
    "    \"\"\"Função multiplicacao\"\"\"\n",
    "    resultado = x * y\n",
    "    return resultado\n",
    "def divisao(x, y):\n",
    "    \"\"\"Função divisao\"\"\"\n",
    "    resultado = x / y\n",
    "    return resultado"
   ]
  },
  {
   "cell_type": "code",
   "execution_count": null,
   "metadata": {},
   "outputs": [],
   "source": [
    "print(soma(1, 2))\n",
    "print(subtracao(1, 2))\n",
    "print(multiplicacao(1, 2))\n",
    "print(divisao(1, 2))"
   ]
  },
  {
   "cell_type": "code",
   "execution_count": null,
   "metadata": {},
   "outputs": [],
   "source": [
    "import math\n",
    "\n",
    "\n",
    "def area(forma, x, y):\n",
    "    \"\"\"Calcula a area das quatro formas geométricas\"\"\"\n",
    "    if forma == 'quadrado':\n",
    "        \"\"\"Parâmetro x: medida do lado\"\"\"\n",
    "        return x**2\n",
    "    elif forma == 'retangulo':\n",
    "        \"\"\"Parâmetro x: medida do lado 1\n",
    "        Parâmetro y: medida do lado 2\"\"\"\n",
    "        return x * y\n",
    "    elif forma == 'circulo':\n",
    "        \"\"\"Parâmetro x: raio do círculo\"\"\"\n",
    "        return math.pi * (x**2)\n",
    "    elif forma == 'triangulo':\n",
    "        \"\"\"Parâmetro x: base do triângulo\n",
    "        Parâmetro y: altura do triângulo\"\"\"\n",
    "        return (x * y) / 2\n",
    "    else:\n",
    "        return 'Forma inválida'\n"
   ]
  },
  {
   "cell_type": "code",
   "execution_count": null,
   "metadata": {},
   "outputs": [],
   "source": [
    "print(area('quadrado', 3, 2))"
   ]
  },
  {
   "cell_type": "code",
   "execution_count": null,
   "metadata": {},
   "outputs": [],
   "source": [
    "def cubo(x):\n",
    "    \"\"\"Calcula o valor do cubo\"\"\"\n",
    "    return x ** 3"
   ]
  },
  {
   "cell_type": "code",
   "execution_count": null,
   "metadata": {},
   "outputs": [],
   "source": [
    "print(cubo(3))"
   ]
  },
  {
   "cell_type": "code",
   "execution_count": null,
   "metadata": {},
   "outputs": [],
   "source": [
    "import math\n",
    "\n",
    "\n",
    "def area(forma, x, y):\n",
    "    \"\"\"Calcula a area das quatro formas geométricas\"\"\"\n",
    "    if forma == 'quadrado':\n",
    "        \"\"\"Parâmetro x: medida do lado\"\"\"\n",
    "        return x**2\n",
    "    elif forma == 'retangulo':\n",
    "        \"\"\"Parâmetro x: medida do lado 1\n",
    "        Parâmetro y: medida do lado 2\"\"\"\n",
    "        return x * y\n",
    "    elif forma == 'circulo':\n",
    "        \"\"\"Parâmetro x: raio do círculo\"\"\"\n",
    "        return math.pi * (x**2)\n",
    "    elif forma == 'triangulo':\n",
    "        \"\"\"Parâmetro x: base do triângulo\n",
    "        Parâmetro y: altura do triângulo\"\"\"\n",
    "        return (x * y) / 2\n",
    "    else:\n",
    "        return 'Forma inválida'"
   ]
  },
  {
   "cell_type": "code",
   "execution_count": null,
   "metadata": {},
   "outputs": [],
   "source": [
    "forma = str(input('Insira a forma do terreno'))\n",
    "if forma == 'circulo':\n",
    "    x = int(input('Insira o valor do raio'))\n",
    "    y = 0\n",
    "elif forma == 'triangulo':\n",
    "    x = int(input('Insira o valor da base'))\n",
    "    y = int(input('Insira o valor da altura'))\n",
    "elif forma == 'quadrado':\n",
    "    x = int(input('Insira o valor do lado'))\n",
    "    y = 0\n",
    "elif forma == 'retângulo':\n",
    "    x = int(input('Insira o valor do lado 1'))\n",
    "    y = int(input('Insira o valor do lado 2'))\n",
    "print(area(forma, x, y))"
   ]
  },
  {
   "cell_type": "code",
   "execution_count": null,
   "metadata": {},
   "outputs": [],
   "source": [
    "def soma_lista(lista):\n",
    "    \"\"\"Soma valores de uma lista\"\"\"\n",
    "    soma = 0\n",
    "    for k in lista:\n",
    "        soma += k\n",
    "    return soma"
   ]
  },
  {
   "cell_type": "code",
   "execution_count": null,
   "metadata": {},
   "outputs": [],
   "source": [
    "def media_lista(lista, limite):\n",
    "    \"\"\"Tira a média dos valores \"\"\"\n",
    "    for k in range (1, limite):\n",
    "        valor = int(input(f'Digite o {k}° número para ser somado'))\n",
    "        lista.append(valor)\n",
    "    return sum(lista) / len(lista)"
   ]
  },
  {
   "cell_type": "code",
   "execution_count": null,
   "metadata": {},
   "outputs": [],
   "source": [
    "lista_valores = []\n",
    "\n",
    "print(media_lista(lista_valores, 4))"
   ]
  },
  {
   "cell_type": "code",
   "execution_count": null,
   "metadata": {},
   "outputs": [],
   "source": [
    "def calcular_media(lista):\n",
    "    sum(lista) / len(lista)\n",
    "\n",
    "def lista_media(lista, limite):\n",
    "    for k in range (1, limite):\n",
    "        valor = int(input(f'Digite o {k}° número para ser somado'))\n",
    "        lista.append(valor)\n",
    "        return calcular_media(lista)\n"
   ]
  },
  {
   "cell_type": "code",
   "execution_count": null,
   "metadata": {},
   "outputs": [],
   "source": [
    "lista_valores = []\n",
    "\n",
    "print(media_lista(lista_valores, 4))"
   ]
  },
  {
   "cell_type": "code",
   "execution_count": null,
   "metadata": {},
   "outputs": [],
   "source": [
    "def media_lista(lista, limite):\n",
    "    \"\"\"Calcula a média dos valores \"\"\"\n",
    "    for k in range (1, limite):\n",
    "        valor = int(input(f'Digite o {k}° número para ser somado'))\n",
    "        lista.append(valor)\n",
    "\n",
    "def mostrar_media(lista, comprimento):\n",
    "    \"\"\"Mostra a média de uma lista\"\"\"\n",
    "    media = sum(lista) / comprimento\n",
    "    print(f'A média da lista é {media}')"
   ]
  },
  {
   "cell_type": "code",
   "execution_count": null,
   "metadata": {},
   "outputs": [],
   "source": [
    "lista_valores = []\n",
    "\n",
    "media_lista(lista_valores, 6)\n",
    "mostrar_media(lista_valores, len(lista_valores))"
   ]
  },
  {
   "attachments": {},
   "cell_type": "markdown",
   "metadata": {},
   "source": [
    "# 17/05\n"
   ]
  },
  {
   "cell_type": "code",
   "execution_count": null,
   "metadata": {},
   "outputs": [],
   "source": [
    "pip install pandas"
   ]
  },
  {
   "cell_type": "code",
   "execution_count": null,
   "metadata": {},
   "outputs": [],
   "source": [
    "import pandas as pd\n",
    "\n",
    "dados = {'A':[1, 2, 3, 4, 5],\n",
    "         'B': ['a', 'b', 'c', 'd', 'e']}\n",
    "\n",
    "df = pd.DataFrame(dados)\n",
    "df"
   ]
  },
  {
   "cell_type": "code",
   "execution_count": null,
   "metadata": {},
   "outputs": [],
   "source": [
    "def contador(n):\n",
    "    for k in range(1, n + 1):\n",
    "        print(k)\n",
    "contador(int(input('Insira o limite do contador')))"
   ]
  },
  {
   "cell_type": "code",
   "execution_count": null,
   "metadata": {},
   "outputs": [],
   "source": [
    "lista_cores = ['azul', 'vermelho', 'verde']\n",
    "def verificar_cor(cor):\n",
    "    if cor in lista_cores:\n",
    "        print('A cor está na lista')\n",
    "    else:\n",
    "        print('A cor não está na lista')\n",
    "verificar_cor(input('Insira uma cor'))"
   ]
  },
  {
   "cell_type": "code",
   "execution_count": null,
   "metadata": {},
   "outputs": [],
   "source": [
    "pip install statistics"
   ]
  },
  {
   "cell_type": "code",
   "execution_count": null,
   "metadata": {},
   "outputs": [],
   "source": [
    "\n",
    "temperaturas = []\n",
    "while -999 not in temperaturas:\n",
    "    temperatura = int(input('Insira uma temperatura'))\n",
    "    temperaturas.append(temperatura)\n",
    "\n",
    "def mostrar_temperaturas(lista):\n",
    "    lista.sort()\n",
    "    lista.pop(0)\n",
    "    i = 0\n",
    "    print(f'O valor mínimo foi {lista[0]}')\n",
    "    print(f'O maior valor foi {lista[len(lista) - 1]}')\n",
    "    print(f'A média da de temperatura foi {sum(lista) / len(lista)}')\n",
    "    if len(lista) % 2 != 0:\n",
    "        while i < (len(lista) / 2):\n",
    "            i += 1\n",
    "        print(f' a mediana da lista é {lista[i + 1]}')\n",
    "    else:\n",
    "        print(f'A mediana das temperaturas foi {(lista[round(len(lista) / 2)] + lista[(round(len(lista) / 2)) - 1]) / 2}')\n",
    "mostrar_temperaturas(temperaturas)\n",
    "print(temperaturas)\n"
   ]
  },
  {
   "cell_type": "code",
   "execution_count": null,
   "metadata": {},
   "outputs": [],
   "source": [
    "import pandas as pd\n",
    "\n",
    "df = pd.read_csv(r'C:\\Users\\logonrmlocal\\Desktop\\aula\\Python\\manutencao_preditiva.csv')\n",
    "df"
   ]
  },
  {
   "cell_type": "code",
   "execution_count": null,
   "metadata": {},
   "outputs": [],
   "source": [
    "import pandas as pd\n",
    "\n",
    "df.info()"
   ]
  },
  {
   "cell_type": "code",
   "execution_count": null,
   "metadata": {},
   "outputs": [],
   "source": [
    "pip install matplotlib"
   ]
  },
  {
   "cell_type": "code",
   "execution_count": null,
   "metadata": {},
   "outputs": [],
   "source": [
    "import matplotlib.pyplot as plt\n",
    "\n",
    "x = df['UDI']\n",
    "y1 = df['Temperatura Ar [K]']\n",
    "y2 = df['Temperatura Processo [K]']\n",
    "\n",
    "plt.plot(x, y1)\n",
    "\n",
    "plt.xlabel('Amostras')\n",
    "plt.ylabel('Temperaturas')\n",
    "plt.title('Curvas de temperatura')\n",
    "plt.grid()\n",
    "plt.show()"
   ]
  },
  {
   "cell_type": "code",
   "execution_count": null,
   "metadata": {},
   "outputs": [],
   "source": [
    "df['Tipo da Falha'].value_counts()"
   ]
  },
  {
   "cell_type": "code",
   "execution_count": null,
   "metadata": {},
   "outputs": [],
   "source": [
    "df_filtrado = df[df['Tipo da Falha'] == 'Random Failures']\n",
    "\n",
    "print(df_filtrado)\n",
    "(df_filtrado['Temperatura Ar [K]'].mean())"
   ]
  },
  {
   "cell_type": "code",
   "execution_count": null,
   "metadata": {},
   "outputs": [],
   "source": [
    "dados = {'A':[10, 20, 30, 40, 50],\n",
    "         'B': [100, 200, 300, 400, 500]}\n",
    "\n",
    "dados_novos = pd.DataFrame(dados)\n",
    "dados_novos['soma'] = dados_novos['A'] + dados_novos['B']\n",
    "dados_novos"
   ]
  },
  {
   "cell_type": "markdown",
   "metadata": {},
   "source": [
    "# 09/08"
   ]
  },
  {
   "cell_type": "code",
   "execution_count": null,
   "metadata": {},
   "outputs": [],
   "source": [
    "medias_alunos = []\n",
    "for k in range(1, 4):\n",
    "    for i in range(1, 4):\n",
    "        notas_individual = []\n",
    "        notas_individual.append(int(input(f'Insira a {i}° nota do aluno {k}')))\n",
    "    medias_alunos.append(sum(notas_individual) / len(notas_individual))\n",
    "for j in range(1, 4):\n",
    "    print(f'A nota do aluno {j} é {medias_alunos[j-1]}')\n",
    "media_global = sum(medias_alunos) / len(medias_alunos)\n",
    "print(f'A média global é {media_global}')"
   ]
  },
  {
   "cell_type": "code",
   "execution_count": null,
   "metadata": {},
   "outputs": [],
   "source": [
    "salario = int(input(\"Insira o seu salário\"))\n",
    "\n",
    "if salario > 4664.68: taxa = 27.5 / 100\n",
    "elif salario > 3751.07: taxa = 22.5 / 100\n",
    "elif salario > 2826.67: taxa = 15 / 100\n",
    "elif salario > 2112.01: taxa = 7.5 / 100\n",
    "else: taxa = 0\n",
    "\n",
    "print(f\" Seu salário com descontos foi:{salario - (salario * taxa)} \\n salário bruto: {salario} \\n taxa: {taxa * 100}%\")\n",
    "    "
   ]
  },
  {
   "cell_type": "code",
   "execution_count": null,
   "metadata": {},
   "outputs": [],
   "source": [
    "salario = int(input(\"Insira o seu salário\"))\n",
    "\n",
    "salarios_taxas = [\n",
    "    (4664.68, 27.5 / 100),\n",
    "    (3751.07, 22.5 / 100),\n",
    "    (2826.67, 15 / 100),\n",
    "    (2112.01, 7.5 / 100)\n",
    "]\n",
    "\n",
    "taxacao = True\n",
    "\n",
    "while taxacao == True:\n",
    "    for k in range(1, 4):\n",
    "        if salario > salarios_taxas[k][0]:\n",
    "            print(f'O seu salário líquido foi de R${salario - (salario * salarios_taxas[k][1])} \\n A sua taxa foi de {salarios_taxas[k][1] * 100}%')\n",
    "            taxacao = False\n",
    "            break\n",
    "        else:\n",
    "            print('Você foi isento do imposto de renda')\n",
    "            taxacao = False\n",
    "            break    "
   ]
  },
  {
   "cell_type": "code",
   "execution_count": null,
   "metadata": {},
   "outputs": [],
   "source": [
    "salario = int(input(\"Insira o seu salário\"))\n",
    "\n",
    "salarios_taxas = [\n",
    "    (4664.68, 27.5 / 100),\n",
    "    (3751.07, 22.5 / 100),\n",
    "    (2826.67, 15 / 100),\n",
    "    (2112.01, 7.5 / 100)\n",
    "]\n",
    "\n",
    "for limite, taxa in salarios_taxas:\n",
    "    if salario >= limite:\n",
    "        imposto = salario * taxa\n",
    "    break\n",
    "print(salario - imposto)"
   ]
  },
  {
   "cell_type": "code",
   "execution_count": null,
   "metadata": {},
   "outputs": [],
   "source": [
    "salarios_taxas = [\n",
    "    (4664.68, 27.5 / 100),\n",
    "    (3751.07, 22.5 / 100),\n",
    "    (2826.67, 15 / 100),\n",
    "    (2112.01, 7.5 / 100)\n",
    "]\n",
    "\n",
    "def taxacao(salario):\n",
    "    for limite, taxa in salarios_taxas:\n",
    "        if salario >= limite:\n",
    "            imposto = salario * taxa\n",
    "        break\n",
    "    return salario - imposto\n",
    "taxacao(int(input(\"Insira o seu salário\")))"
   ]
  },
  {
   "cell_type": "markdown",
   "metadata": {},
   "source": [
    "# 16/08"
   ]
  },
  {
   "cell_type": "code",
   "execution_count": 12,
   "metadata": {},
   "outputs": [
    {
     "name": "stdout",
     "output_type": "stream",
     "text": [
      "100\n",
      "200\n",
      "300\n"
     ]
    }
   ],
   "source": [
    "lista = [100, 200, 300]\n",
    "for i in lista:\n",
    "    print(i)"
   ]
  },
  {
   "cell_type": "code",
   "execution_count": 7,
   "metadata": {},
   "outputs": [
    {
     "name": "stdout",
     "output_type": "stream",
     "text": [
      "100\n",
      "200\n",
      "300\n"
     ]
    }
   ],
   "source": [
    "print(lista[0])\n",
    "print(lista[1])\n",
    "print(lista[2])"
   ]
  },
  {
   "cell_type": "code",
   "execution_count": 10,
   "metadata": {},
   "outputs": [
    {
     "name": "stdout",
     "output_type": "stream",
     "text": [
      "(100, 200, 300)\n"
     ]
    }
   ],
   "source": [
    "tupla = (100, 200, 300)\n",
    "print(tupla)"
   ]
  },
  {
   "cell_type": "code",
   "execution_count": 13,
   "metadata": {},
   "outputs": [
    {
     "ename": "TypeError",
     "evalue": "tuple expected at most 1 argument, got 3",
     "output_type": "error",
     "traceback": [
      "\u001b[1;31m---------------------------------------------------------------------------\u001b[0m",
      "\u001b[1;31mTypeError\u001b[0m                                 Traceback (most recent call last)",
      "Cell \u001b[1;32mIn[13], line 1\u001b[0m\n\u001b[1;32m----> 1\u001b[0m tupla \u001b[38;5;241m=\u001b[39m \u001b[38;5;28;43mtuple\u001b[39;49m\u001b[43m(\u001b[49m\u001b[38;5;124;43m'\u001b[39;49m\u001b[38;5;124;43mleo\u001b[39;49m\u001b[38;5;124;43m'\u001b[39;49m\u001b[43m,\u001b[49m\u001b[43m \u001b[49m\u001b[43m[\u001b[49m\u001b[38;5;241;43m1\u001b[39;49m\u001b[43m,\u001b[49m\u001b[38;5;241;43m2\u001b[39;49m\u001b[43m,\u001b[49m\u001b[38;5;241;43m3\u001b[39;49m\u001b[43m]\u001b[49m\u001b[43m,\u001b[49m\u001b[43m \u001b[49m\u001b[38;5;28;43;01mTrue\u001b[39;49;00m\u001b[43m)\u001b[49m\n\u001b[0;32m      2\u001b[0m \u001b[38;5;28mprint\u001b[39m(tupla)\n",
      "\u001b[1;31mTypeError\u001b[0m: tuple expected at most 1 argument, got 3"
     ]
    }
   ],
   "source": [
    "tupla = tuple(['leo', [1,2,3], True])\n",
    "print(tupla)"
   ]
  },
  {
   "cell_type": "code",
   "execution_count": 18,
   "metadata": {},
   "outputs": [
    {
     "ename": "ValueError",
     "evalue": "tuple.index(x): x not in tuple",
     "output_type": "error",
     "traceback": [
      "\u001b[1;31m---------------------------------------------------------------------------\u001b[0m",
      "\u001b[1;31mValueError\u001b[0m                                Traceback (most recent call last)",
      "Cell \u001b[1;32mIn[18], line 2\u001b[0m\n\u001b[0;32m      1\u001b[0m tupla \u001b[38;5;241m=\u001b[39m \u001b[38;5;28mtuple\u001b[39m([\u001b[38;5;124m'\u001b[39m\u001b[38;5;124mfoo\u001b[39m\u001b[38;5;124m'\u001b[39m,[\u001b[38;5;241m1\u001b[39m,\u001b[38;5;241m2\u001b[39m,\u001b[38;5;241m3\u001b[39m],\u001b[38;5;28;01mTrue\u001b[39;00m])\n\u001b[1;32m----> 2\u001b[0m \u001b[38;5;28mprint\u001b[39m(\u001b[43mtupla\u001b[49m\u001b[38;5;241;43m.\u001b[39;49m\u001b[43mindex\u001b[49m\u001b[43m(\u001b[49m\u001b[38;5;124;43m'\u001b[39;49m\u001b[38;5;124;43mfo\u001b[39;49m\u001b[38;5;124;43m'\u001b[39;49m\u001b[43m)\u001b[49m)\n\u001b[0;32m      4\u001b[0m lista \u001b[38;5;241m=\u001b[39m \u001b[38;5;28mlist\u001b[39m(tupla)\n\u001b[0;32m      5\u001b[0m \u001b[38;5;28mprint\u001b[39m(lista)\n",
      "\u001b[1;31mValueError\u001b[0m: tuple.index(x): x not in tuple"
     ]
    }
   ],
   "source": [
    "tupla = tuple(['foo',[1,2,3],True])\n",
    "print(tupla)\n",
    "\n",
    "lista = list(tupla)\n",
    "print(lista)\n",
    "\n",
    "posicao_insercao = lista.index('foo') + 1\n",
    "lista.insert(posicao_insercao, 'foo fighters')\n",
    "\n",
    "tupla_nova = tuple(lista)\n",
    "print(tupla_nova)\n"
   ]
  },
  {
   "cell_type": "code",
   "execution_count": 19,
   "metadata": {},
   "outputs": [
    {
     "data": {
      "text/plain": [
       "(6, True, 'leo', 69, 'james')"
      ]
     },
     "execution_count": 19,
     "metadata": {},
     "output_type": "execute_result"
    }
   ],
   "source": [
    "(6, True, 'leo') + (69, 'james')"
   ]
  },
  {
   "cell_type": "code",
   "execution_count": 20,
   "metadata": {},
   "outputs": [
    {
     "name": "stdout",
     "output_type": "stream",
     "text": [
      "1\n",
      "2\n",
      "3\n"
     ]
    }
   ],
   "source": [
    "tupla = (1,2,3)\n",
    "\n",
    "a,b,c = tupla\n",
    "\n",
    "print(a)\n",
    "print(b)\n",
    "print(c)"
   ]
  },
  {
   "cell_type": "code",
   "execution_count": 23,
   "metadata": {},
   "outputs": [
    {
     "name": "stdout",
     "output_type": "stream",
     "text": [
      "banana\n",
      "('maçã', 'banana', 'manga', 'uva', 'abacaxi', 'limão')\n"
     ]
    }
   ],
   "source": [
    "frutas = ('maçã', 'banana', 'laranja', 'uva')\n",
    "print(frutas[1])\n",
    "\n",
    "frutas_modificadas = list(frutas)\n",
    "frutas_modificadas[2] = 'manga'\n",
    "frutas_concatenadas = tuple(frutas_modificadas)\n",
    "\n",
    "frutas_concatenadas += ('abacaxi', 'limão')\n",
    "print(frutas_concatenadas)"
   ]
  },
  {
   "cell_type": "markdown",
   "metadata": {},
   "source": [
    "# 23/08\n"
   ]
  },
  {
   "cell_type": "code",
   "execution_count": 4,
   "metadata": {},
   "outputs": [],
   "source": [
    "import pandas as pd"
   ]
  },
  {
   "cell_type": "code",
   "execution_count": 2,
   "metadata": {},
   "outputs": [],
   "source": [
    "df_track = pd.read_csv(r'C:\\Users\\labsfiap\\Desktop\\Python\\Track_202408231944.csv')"
   ]
  },
  {
   "cell_type": "code",
   "execution_count": 7,
   "metadata": {},
   "outputs": [
    {
     "data": {
      "text/plain": [
       "Name\n",
       "\"40\"                                                           157962\n",
       "\"?\"                                                           2782333\n",
       "\"Eine Kleine Nachtmusik\" Serenade In G, K. 525: I. Allegro     348971\n",
       "#1 Zero                                                        299102\n",
       "#9 Dream                                                       278312\n",
       "                                                               ...   \n",
       "É que Nessa Encarnação Eu Nasci Manga                          196519\n",
       "Étude 1, In C Major - Preludio (Presto) - Liszt                 51780\n",
       "Óculos                                                         219271\n",
       "Óia Eu Aqui De Novo                                            219454\n",
       "Último Pau-De-Arara                                            200437\n",
       "Name: Milliseconds, Length: 3257, dtype: int64"
      ]
     },
     "execution_count": 7,
     "metadata": {},
     "output_type": "execute_result"
    }
   ],
   "source": [
    "df_track.groupby('Name')['Milliseconds'].sum()"
   ]
  },
  {
   "cell_type": "code",
   "execution_count": 9,
   "metadata": {},
   "outputs": [
    {
     "data": {
      "text/plain": [
       "0       343719\n",
       "1       342562\n",
       "2       230619\n",
       "3       252051\n",
       "4       375418\n",
       "         ...  \n",
       "3498    286741\n",
       "3499    139200\n",
       "3500     66639\n",
       "3501    221331\n",
       "3502    206005\n",
       "Name: Milliseconds, Length: 3503, dtype: int64"
      ]
     },
     "execution_count": 9,
     "metadata": {},
     "output_type": "execute_result"
    }
   ],
   "source": [
    "df_track['Milliseconds']"
   ]
  },
  {
   "cell_type": "code",
   "execution_count": 10,
   "metadata": {},
   "outputs": [],
   "source": [
    "import numpy as np"
   ]
  },
  {
   "cell_type": "code",
   "execution_count": 11,
   "metadata": {},
   "outputs": [],
   "source": [
    "vetor = np.array([20, 20, 30, 40, 50])"
   ]
  },
  {
   "cell_type": "code",
   "execution_count": 13,
   "metadata": {},
   "outputs": [
    {
     "data": {
      "text/plain": [
       "array([[10, 20],\n",
       "       [ 4,  5]])"
      ]
     },
     "execution_count": 13,
     "metadata": {},
     "output_type": "execute_result"
    }
   ],
   "source": [
    "matriz_2d = np.array([[10, 20], [4, 5]])\n",
    "matriz_2d"
   ]
  },
  {
   "cell_type": "code",
   "execution_count": 17,
   "metadata": {},
   "outputs": [],
   "source": [
    "# estrutura unidimensional - pandas series\n",
    "\n",
    "s1 = pd.Series([10, 20, 30, 40, 50], name = 'Serie 1')\n",
    "s2 = pd.Series([1, 2, 3, 4, 5], name = 'Serie 2')"
   ]
  },
  {
   "cell_type": "code",
   "execution_count": 19,
   "metadata": {},
   "outputs": [
    {
     "data": {
      "text/html": [
       "<div>\n",
       "<style scoped>\n",
       "    .dataframe tbody tr th:only-of-type {\n",
       "        vertical-align: middle;\n",
       "    }\n",
       "\n",
       "    .dataframe tbody tr th {\n",
       "        vertical-align: top;\n",
       "    }\n",
       "\n",
       "    .dataframe thead th {\n",
       "        text-align: right;\n",
       "    }\n",
       "</style>\n",
       "<table border=\"1\" class=\"dataframe\">\n",
       "  <thead>\n",
       "    <tr style=\"text-align: right;\">\n",
       "      <th></th>\n",
       "      <th>Serie 1</th>\n",
       "      <th>Serie2</th>\n",
       "    </tr>\n",
       "  </thead>\n",
       "  <tbody>\n",
       "    <tr>\n",
       "      <th>0</th>\n",
       "      <td>10</td>\n",
       "      <td>1</td>\n",
       "    </tr>\n",
       "    <tr>\n",
       "      <th>1</th>\n",
       "      <td>20</td>\n",
       "      <td>2</td>\n",
       "    </tr>\n",
       "    <tr>\n",
       "      <th>2</th>\n",
       "      <td>30</td>\n",
       "      <td>3</td>\n",
       "    </tr>\n",
       "    <tr>\n",
       "      <th>3</th>\n",
       "      <td>40</td>\n",
       "      <td>4</td>\n",
       "    </tr>\n",
       "    <tr>\n",
       "      <th>4</th>\n",
       "      <td>50</td>\n",
       "      <td>5</td>\n",
       "    </tr>\n",
       "  </tbody>\n",
       "</table>\n",
       "</div>"
      ],
      "text/plain": [
       "   Serie 1  Serie2\n",
       "0       10       1\n",
       "1       20       2\n",
       "2       30       3\n",
       "3       40       4\n",
       "4       50       5"
      ]
     },
     "execution_count": 19,
     "metadata": {},
     "output_type": "execute_result"
    }
   ],
   "source": [
    "df = pd.DataFrame({'Serie 1': s1, 'Serie2': s2})\n",
    "df"
   ]
  },
  {
   "cell_type": "code",
   "execution_count": 25,
   "metadata": {},
   "outputs": [
    {
     "name": "stdout",
     "output_type": "stream",
     "text": [
      "5.5 3.0276503540974917\n"
     ]
    }
   ],
   "source": [
    "#exercicios\n",
    "df = pd.Series(range(1, 11))\n",
    "df\n",
    "df1 = pd.Series(range(1, 6), name = 'Serie 1')\n",
    "df2 = pd.Series(range(6, 11), name = 'Serie 2')\n",
    "df3 = df1 + df2\n",
    "\n",
    "df4 = [df[df<6]]\n",
    "df4\n",
    "\n",
    "media = df.mean() \n",
    "desvio_padrao = df.std()\n",
    "\n",
    "df_concatenada = pd.concat([df1, df2], axis = 1)\n",
    "\n"
   ]
  },
  {
   "cell_type": "code",
   "execution_count": 33,
   "metadata": {},
   "outputs": [
    {
     "data": {
      "text/plain": [
       "0   -10\n",
       "1    -8\n",
       "2    -6\n",
       "3    -4\n",
       "4    -2\n",
       "5     0\n",
       "6     2\n",
       "7     4\n",
       "8     6\n",
       "9     8\n",
       "dtype: int64"
      ]
     },
     "execution_count": 33,
     "metadata": {},
     "output_type": "execute_result"
    }
   ],
   "source": [
    "s1 = pd.Series(range(1, 11))\n",
    "s2 = pd.Series(range(11, 1, -1))\n",
    "\n",
    "s_sub = s1 - s2\n",
    "s_sub"
   ]
  },
  {
   "cell_type": "code",
   "execution_count": 34,
   "metadata": {},
   "outputs": [
    {
     "data": {
      "text/plain": [
       "3    4\n",
       "4    5\n",
       "5    6\n",
       "6    7\n",
       "7    8\n",
       "dtype: int64"
      ]
     },
     "execution_count": 34,
     "metadata": {},
     "output_type": "execute_result"
    }
   ],
   "source": [
    "s1 = pd.Series(range(1, 11))\n",
    "\n",
    "s1[3:8]"
   ]
  }
 ],
 "metadata": {
  "kernelspec": {
   "display_name": "Python 3",
   "language": "python",
   "name": "python3"
  },
  "language_info": {
   "codemirror_mode": {
    "name": "ipython",
    "version": 3
   },
   "file_extension": ".py",
   "mimetype": "text/x-python",
   "name": "python",
   "nbconvert_exporter": "python",
   "pygments_lexer": "ipython3",
   "version": "3.12.3"
  },
  "orig_nbformat": 4
 },
 "nbformat": 4,
 "nbformat_minor": 2
}
